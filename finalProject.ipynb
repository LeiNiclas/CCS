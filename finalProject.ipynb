{
 "cells": [
  {
   "cell_type": "markdown",
   "metadata": {},
   "source": [
    "## CCS - final project - Jona Kao, Niclas Leinen\n",
    "##### This jupyter notebook contains code for three different models. Use the following links to quickly get to the code of the different models and other sections of the code!\n",
    "\n",
    "<b>[Libraries](#libraries)</b> \\\n",
    "<b>[Data Import](#data-import)</b> \\\n",
    "<b>[k and $\\beta$](#k-and-beta-values)</b> \\\n",
    "<b>[Model 1: Ex-Gaussian model](#model-1-ex-gaussian-model)</b>"
   ]
  },
  {
   "cell_type": "markdown",
   "metadata": {},
   "source": [
    "# Libraries\n",
    "---"
   ]
  },
  {
   "cell_type": "code",
   "execution_count": 22,
   "metadata": {},
   "outputs": [],
   "source": [
    "import scipy\n",
    "from scipy.optimize import minimize\n",
    "from scipy.stats import exponnorm\n",
    "from scipy.stats import ks_1samp\n",
    "from scipy.stats import ks_2samp\n",
    "from scipy.stats import norm\n",
    "from scipy import stats\n",
    "import os\n",
    "import pandas as pd\n",
    "import numpy as np\n",
    "import matplotlib.pyplot as plt"
   ]
  },
  {
   "cell_type": "markdown",
   "metadata": {},
   "source": [
    "---\n",
    "# Setting the random seed for reproducabilty\n",
    "---"
   ]
  },
  {
   "cell_type": "code",
   "execution_count": 23,
   "metadata": {},
   "outputs": [],
   "source": [
    "np.random.seed(12)"
   ]
  },
  {
   "cell_type": "markdown",
   "metadata": {},
   "source": [
    "---\n",
    "# Data import\n",
    "---"
   ]
  },
  {
   "cell_type": "markdown",
   "metadata": {},
   "source": [
    "We first define the path to the folder containing the sample data."
   ]
  },
  {
   "cell_type": "code",
   "execution_count": 24,
   "metadata": {},
   "outputs": [],
   "source": [
    "# Note: The given filepath is a RELATIVE filepath,\n",
    "# meaning that the data folder must lie in the same\n",
    "# directory as the jupyter notebook file!\n",
    "DATAPATH = \"Data/\"\n",
    "mat_files = [f for f in os.listdir(DATAPATH) if f.endswith(\".mat\")]"
   ]
  },
  {
   "cell_type": "markdown",
   "metadata": {},
   "source": [
    "Then we create a function that loads and extracts the contents of a .mat-file."
   ]
  },
  {
   "cell_type": "code",
   "execution_count": 25,
   "metadata": {},
   "outputs": [],
   "source": [
    "def load_mat_file(file_path):\n",
    "    mat_data = scipy.io.loadmat(file_path)\n",
    "\n",
    "    # Extract data and convert to DataFrames\n",
    "    data_train = pd.DataFrame(mat_data['data_train'])\n",
    "    data_test = pd.DataFrame(mat_data['data_test'])\n",
    "    data_labels = [label[0] for label in mat_data['data_labels'][0]]  # Convert to list of column names\n",
    "\n",
    "    # Assign column names\n",
    "    data_train.columns = data_labels\n",
    "    data_test.columns = data_labels\n",
    "\n",
    "    return data_train, data_test"
   ]
  },
  {
   "cell_type": "markdown",
   "metadata": {},
   "source": [
    "Now we can load all the data into two dictionaries: <i>TRAIN_DATA</i> and <i>TEST_DATA</i>."
   ]
  },
  {
   "cell_type": "code",
   "execution_count": 26,
   "metadata": {},
   "outputs": [],
   "source": [
    "TRAIN_DATA = {}\n",
    "TEST_DATA = {}\n",
    "\n",
    "for mat_file in mat_files:\n",
    "    filepath = os.path.join(DATAPATH, mat_file)\n",
    "    train, test = load_mat_file(filepath)\n",
    "    \n",
    "    # Store using participant ID (file name without .mat)\n",
    "    participant_id = mat_file.replace(\".mat\", \"\")\n",
    "    TRAIN_DATA[participant_id] = train\n",
    "    TEST_DATA[participant_id] = test"
   ]
  },
  {
   "cell_type": "markdown",
   "metadata": {},
   "source": [
    "We need to filter the data with a missing action value."
   ]
  },
  {
   "cell_type": "code",
   "execution_count": 27,
   "metadata": {},
   "outputs": [],
   "source": [
    "# Assuming TRAIN_DATA and TEST_DATA are dictionaries with participant IDs as keys\n",
    "train_data_with_filtered_actions = {}\n",
    "test_data_with_filtered_actions = {}\n",
    "\n",
    "for participant_id, data in TRAIN_DATA.items():\n",
    "    # Filter out rows where the action column has a value of 0\n",
    "    filtered_data = data[data[\"action (1=immediate, 2=delayed, 0=missing)\"] != 0]\n",
    "    filtered_data = filtered_data.reset_index(drop=True)\n",
    "    train_data_with_filtered_actions[participant_id] = filtered_data\n",
    "\n",
    "for participant_id, data in TEST_DATA.items():\n",
    "    # Filter out rows where the action column has a value of 0\n",
    "    filtered_data = data[data[\"action (1=immediate, 2=delayed, 0=missing)\"] != 0]\n",
    "    filtered_data = filtered_data.reset_index(drop=True)\n",
    "    test_data_with_filtered_actions[participant_id] = filtered_data\n",
    "\n",
    "# Replace the original dictionaries with the filtered ones\n",
    "TRAIN_DATA = train_data_with_filtered_actions\n",
    "TEST_DATA = test_data_with_filtered_actions"
   ]
  },
  {
   "cell_type": "markdown",
   "metadata": {},
   "source": [
    "We will then define the labels of the data table for easier future use."
   ]
  },
  {
   "cell_type": "code",
   "execution_count": 28,
   "metadata": {},
   "outputs": [],
   "source": [
    "LABEL_IMM_OUT = \"immOutcome\"\n",
    "LABEL_DEL_OUT = \"delOutcome\"\n",
    "LABEL_DELAY = \"delay\"\n",
    "LABEL_CHOICE = \"action (1=immediate, 2=delayed, 0=missing)\"\n",
    "LABEL_P_IMM = \"p_imm\"\n",
    "LABEL_RT = \"RT\""
   ]
  },
  {
   "cell_type": "markdown",
   "metadata": {},
   "source": [
    "The data is now fully loaded into <i>TRAIN_DATA</i> and <i>TEST_DATA</i> with the following layout: \\\n",
    "<i>data_set</i>[x] = data from participant x.\n",
    "\n",
    "We will be using these datasets for all of our models."
   ]
  },
  {
   "cell_type": "markdown",
   "metadata": {},
   "source": [
    "---\n",
    "# Figuring out values for $k$ and $\\beta$\n",
    "---"
   ]
  },
  {
   "cell_type": "markdown",
   "metadata": {},
   "source": [
    "We will need the following formulas in order to calculate our values for $k$ and $\\beta$:\n",
    "\n",
    "(1) $sv_{delayed,i}$ = $\\frac{delayed\\_outcome}{1+k*delay}$\n",
    "\n",
    "(2) $p_{delayed,i}$ = $\\frac{1}{1+e^{-\\beta(sv_{delayed} - sv_{immediate})}}$\n",
    "\n",
    "(3) $log_L$ = $\\sum_{i = 1}^n c_i log(p_{delayed,i}) + (1 - c_i) log(1-p_{delayed,i})$\n",
    "\n",
    "Therefore, we will need to make some intital estimates for $k$ and $\\beta$.\n",
    "In this case, we chose random values using the random library, and we got the values $k = 0.000237$ and $\\beta = 4.423591$"
   ]
  },
  {
   "cell_type": "code",
   "execution_count": 29,
   "metadata": {},
   "outputs": [],
   "source": [
    "INITIAL_k = 0.000237\n",
    "INITIAL_beta = 4.423591"
   ]
  },
  {
   "cell_type": "markdown",
   "metadata": {},
   "source": [
    "We have to define the behaviour of the model when dealing with sample entries that are missing an <i>action</i>-value. (<i>action</i> = 0).\n",
    "<ul>\n",
    "    <li>Option 1: Set value to an <b>immediate</b> response.</li>\n",
    "    <li>Option 2: Set value to a <b>delayed</b> response.</li>\n",
    "    <li>Option 3: Set value to a <b>random</b> response.</li>\n",
    "    <li>Option 4: <b>Ignore</b> entries with missing <i>action</i>-value</li>\n",
    "</ul>\n",
    "\n",
    "We went ahead with choosing option 1. As not many entries are missing <i>action</i>-value, the impact of this decision remains minimal, which we tested after we had successfully built our first model."
   ]
  },
  {
   "cell_type": "code",
   "execution_count": 30,
   "metadata": {},
   "outputs": [],
   "source": [
    "# Helper function to clamp action values between 0 and 1.\n",
    "# Remaps action values of 2.0 to 1.0 (delayed) and all other values to 0.0 (immediate).\n",
    "# This also covers the case of missing action values, which are treated as immediate.\n",
    "def action_values_clamp01(actions):\n",
    "    clamped_actions = []\n",
    "    \n",
    "    for action in actions:\n",
    "        if action == 2.0:\n",
    "            clamped_actions.append(1.0)\n",
    "        else:\n",
    "            clamped_actions.append(0.0)\n",
    "    \n",
    "    return clamped_actions"
   ]
  },
  {
   "cell_type": "markdown",
   "metadata": {},
   "source": [
    "#### $k$-log-likelihood-function"
   ]
  },
  {
   "cell_type": "code",
   "execution_count": 31,
   "metadata": {},
   "outputs": [],
   "source": [
    "def log_likelihood_k(k, data_set, participant):\n",
    "    beta = INITIAL_beta\n",
    "    log_L = 0\n",
    "\n",
    "    data_matrix = data_set[participant]\n",
    "    \n",
    "    sample_size = len(data_matrix)\n",
    "    \n",
    "    sv_immediates = data_matrix[LABEL_IMM_OUT]\n",
    "    \n",
    "    delayed_outcomes = data_matrix[LABEL_DEL_OUT]\n",
    "    delays = data_matrix[LABEL_DELAY]\n",
    "    actions = data_matrix[LABEL_CHOICE]\n",
    "    \n",
    "    clamped_actions = action_values_clamp01(actions)\n",
    "    \n",
    "    \n",
    "    for i in range(sample_size):\n",
    "        sv_delayed = delayed_outcomes[i] / (1.0 + k * max(delays[i], 1e-10))\n",
    "        \n",
    "        p_delayed = 1.0 / (1.0 + np.exp(-beta * (sv_delayed - sv_immediates[i])))\n",
    "        p_delayed = np.clip(p_delayed, 1e-10, 1.0 - 1e-10)\n",
    "        \n",
    "        log_L += clamped_actions[i] * np.log(p_delayed) + (1.0 - clamped_actions[i]) * np.log(1.0 - p_delayed)\n",
    "\n",
    "    return -log_L"
   ]
  },
  {
   "cell_type": "markdown",
   "metadata": {},
   "source": [
    "Minimize $k$ values with this function:"
   ]
  },
  {
   "cell_type": "code",
   "execution_count": 32,
   "metadata": {},
   "outputs": [
    {
     "name": "stderr",
     "output_type": "stream",
     "text": [
      "C:\\Users\\Nicla\\AppData\\Local\\Temp\\ipykernel_10376\\629314813.py:21: RuntimeWarning: overflow encountered in exp\n",
      "  p_delayed = 1.0 / (1.0 + np.exp(-beta * (sv_delayed - sv_immediates[i])))\n",
      "C:\\Users\\Nicla\\AppData\\Local\\Temp\\ipykernel_10376\\629314813.py:21: RuntimeWarning: overflow encountered in exp\n",
      "  p_delayed = 1.0 / (1.0 + np.exp(-beta * (sv_delayed - sv_immediates[i])))\n",
      "C:\\Users\\Nicla\\AppData\\Local\\Temp\\ipykernel_10376\\629314813.py:21: RuntimeWarning: overflow encountered in exp\n",
      "  p_delayed = 1.0 / (1.0 + np.exp(-beta * (sv_delayed - sv_immediates[i])))\n",
      "C:\\Users\\Nicla\\AppData\\Local\\Temp\\ipykernel_10376\\629314813.py:21: RuntimeWarning: overflow encountered in exp\n",
      "  p_delayed = 1.0 / (1.0 + np.exp(-beta * (sv_delayed - sv_immediates[i])))\n",
      "C:\\Users\\Nicla\\AppData\\Local\\Temp\\ipykernel_10376\\629314813.py:21: RuntimeWarning: overflow encountered in exp\n",
      "  p_delayed = 1.0 / (1.0 + np.exp(-beta * (sv_delayed - sv_immediates[i])))\n",
      "C:\\Users\\Nicla\\AppData\\Local\\Temp\\ipykernel_10376\\629314813.py:21: RuntimeWarning: overflow encountered in exp\n",
      "  p_delayed = 1.0 / (1.0 + np.exp(-beta * (sv_delayed - sv_immediates[i])))\n",
      "C:\\Users\\Nicla\\AppData\\Local\\Temp\\ipykernel_10376\\629314813.py:21: RuntimeWarning: overflow encountered in exp\n",
      "  p_delayed = 1.0 / (1.0 + np.exp(-beta * (sv_delayed - sv_immediates[i])))\n",
      "C:\\Users\\Nicla\\AppData\\Local\\Temp\\ipykernel_10376\\629314813.py:21: RuntimeWarning: overflow encountered in exp\n",
      "  p_delayed = 1.0 / (1.0 + np.exp(-beta * (sv_delayed - sv_immediates[i])))\n",
      "C:\\Users\\Nicla\\AppData\\Local\\Temp\\ipykernel_10376\\629314813.py:21: RuntimeWarning: overflow encountered in exp\n",
      "  p_delayed = 1.0 / (1.0 + np.exp(-beta * (sv_delayed - sv_immediates[i])))\n",
      "C:\\Users\\Nicla\\AppData\\Local\\Temp\\ipykernel_10376\\629314813.py:21: RuntimeWarning: overflow encountered in exp\n",
      "  p_delayed = 1.0 / (1.0 + np.exp(-beta * (sv_delayed - sv_immediates[i])))\n",
      "C:\\Users\\Nicla\\AppData\\Local\\Temp\\ipykernel_10376\\629314813.py:21: RuntimeWarning: overflow encountered in exp\n",
      "  p_delayed = 1.0 / (1.0 + np.exp(-beta * (sv_delayed - sv_immediates[i])))\n",
      "C:\\Users\\Nicla\\AppData\\Local\\Temp\\ipykernel_10376\\629314813.py:21: RuntimeWarning: overflow encountered in exp\n",
      "  p_delayed = 1.0 / (1.0 + np.exp(-beta * (sv_delayed - sv_immediates[i])))\n",
      "C:\\Users\\Nicla\\AppData\\Local\\Temp\\ipykernel_10376\\629314813.py:21: RuntimeWarning: overflow encountered in exp\n",
      "  p_delayed = 1.0 / (1.0 + np.exp(-beta * (sv_delayed - sv_immediates[i])))\n",
      "C:\\Users\\Nicla\\AppData\\Local\\Temp\\ipykernel_10376\\629314813.py:21: RuntimeWarning: overflow encountered in exp\n",
      "  p_delayed = 1.0 / (1.0 + np.exp(-beta * (sv_delayed - sv_immediates[i])))\n",
      "C:\\Users\\Nicla\\AppData\\Local\\Temp\\ipykernel_10376\\629314813.py:21: RuntimeWarning: overflow encountered in exp\n",
      "  p_delayed = 1.0 / (1.0 + np.exp(-beta * (sv_delayed - sv_immediates[i])))\n",
      "C:\\Users\\Nicla\\AppData\\Local\\Temp\\ipykernel_10376\\629314813.py:21: RuntimeWarning: overflow encountered in exp\n",
      "  p_delayed = 1.0 / (1.0 + np.exp(-beta * (sv_delayed - sv_immediates[i])))\n",
      "C:\\Users\\Nicla\\AppData\\Local\\Temp\\ipykernel_10376\\629314813.py:21: RuntimeWarning: overflow encountered in exp\n",
      "  p_delayed = 1.0 / (1.0 + np.exp(-beta * (sv_delayed - sv_immediates[i])))\n",
      "C:\\Users\\Nicla\\AppData\\Local\\Temp\\ipykernel_10376\\629314813.py:21: RuntimeWarning: overflow encountered in exp\n",
      "  p_delayed = 1.0 / (1.0 + np.exp(-beta * (sv_delayed - sv_immediates[i])))\n",
      "C:\\Users\\Nicla\\AppData\\Local\\Temp\\ipykernel_10376\\629314813.py:21: RuntimeWarning: overflow encountered in exp\n",
      "  p_delayed = 1.0 / (1.0 + np.exp(-beta * (sv_delayed - sv_immediates[i])))\n",
      "C:\\Users\\Nicla\\AppData\\Local\\Temp\\ipykernel_10376\\629314813.py:21: RuntimeWarning: overflow encountered in exp\n",
      "  p_delayed = 1.0 / (1.0 + np.exp(-beta * (sv_delayed - sv_immediates[i])))\n",
      "C:\\Users\\Nicla\\AppData\\Local\\Temp\\ipykernel_10376\\629314813.py:21: RuntimeWarning: overflow encountered in exp\n",
      "  p_delayed = 1.0 / (1.0 + np.exp(-beta * (sv_delayed - sv_immediates[i])))\n",
      "C:\\Users\\Nicla\\AppData\\Local\\Temp\\ipykernel_10376\\629314813.py:21: RuntimeWarning: overflow encountered in exp\n",
      "  p_delayed = 1.0 / (1.0 + np.exp(-beta * (sv_delayed - sv_immediates[i])))\n",
      "C:\\Users\\Nicla\\AppData\\Local\\Temp\\ipykernel_10376\\629314813.py:21: RuntimeWarning: overflow encountered in exp\n",
      "  p_delayed = 1.0 / (1.0 + np.exp(-beta * (sv_delayed - sv_immediates[i])))\n",
      "C:\\Users\\Nicla\\AppData\\Local\\Temp\\ipykernel_10376\\629314813.py:21: RuntimeWarning: overflow encountered in exp\n",
      "  p_delayed = 1.0 / (1.0 + np.exp(-beta * (sv_delayed - sv_immediates[i])))\n",
      "C:\\Users\\Nicla\\AppData\\Local\\Temp\\ipykernel_10376\\629314813.py:21: RuntimeWarning: overflow encountered in exp\n",
      "  p_delayed = 1.0 / (1.0 + np.exp(-beta * (sv_delayed - sv_immediates[i])))\n",
      "C:\\Users\\Nicla\\AppData\\Local\\Temp\\ipykernel_10376\\629314813.py:21: RuntimeWarning: overflow encountered in exp\n",
      "  p_delayed = 1.0 / (1.0 + np.exp(-beta * (sv_delayed - sv_immediates[i])))\n"
     ]
    }
   ],
   "source": [
    "results_k = []\n",
    "\n",
    "for participant in TRAIN_DATA:\n",
    "    result = minimize(log_likelihood_k, INITIAL_k, args=(TRAIN_DATA, participant))\n",
    "    results_k.append(result.x)"
   ]
  },
  {
   "cell_type": "markdown",
   "metadata": {},
   "source": [
    "#### $\\beta$-log-likelihood-function using calculated $k$-values <a id=\"m1_beta_llf\"></a>"
   ]
  },
  {
   "cell_type": "code",
   "execution_count": 33,
   "metadata": {},
   "outputs": [],
   "source": [
    "def log_likelihood_beta(beta, data_set, participant, participant_id):\n",
    "    # Retrieve the k value for the current participant\n",
    "    k = results_k[participant_id]\n",
    "    log_L = 0\n",
    "\n",
    "    # Get the data matrix for the current participant\n",
    "    data_matrix = data_set[participant]\n",
    "    \n",
    "    # Determine the sample size\n",
    "    sample_size = len(data_matrix)\n",
    "    \n",
    "    # Extract relevant columns from the data matrix\n",
    "    sv_immediates = data_matrix[LABEL_IMM_OUT]\n",
    "    delayed_outcomes = data_matrix[LABEL_DEL_OUT]\n",
    "    delays = data_matrix[LABEL_DELAY]\n",
    "    actions = data_matrix[LABEL_CHOICE]\n",
    "    \n",
    "    # Clamp action values to be between 0 and 1\n",
    "    clamped_actions = action_values_clamp01(actions)\n",
    "\n",
    "    # Loop through each sample in the data matrix\n",
    "    for i in range(sample_size):\n",
    "        # Calculate the subjective value of the delayed outcome\n",
    "        sv_delayed = delayed_outcomes[i] / (1.0 + k * max(delays[i], 1e-10))\n",
    "        \n",
    "        # Calculate the probability of choosing the delayed outcome\n",
    "        p_delayed = 1.0 / (1.0 + np.exp(-beta * (sv_delayed - sv_immediates[i])))\n",
    "        p_delayed = np.clip(p_delayed, 1e-10, 1.0 - 1e-10)\n",
    "        \n",
    "        # Update the log likelihood\n",
    "        log_L += clamped_actions[i] * np.log(p_delayed) + (1.0 - clamped_actions[i]) * np.log(1.0 - p_delayed)\n",
    "\n",
    "\n",
    "    return -log_L"
   ]
  },
  {
   "cell_type": "markdown",
   "metadata": {},
   "source": [
    "Minimize $\\beta$ with this function:"
   ]
  },
  {
   "cell_type": "code",
   "execution_count": 34,
   "metadata": {},
   "outputs": [
    {
     "name": "stderr",
     "output_type": "stream",
     "text": [
      "C:\\Users\\Nicla\\AppData\\Local\\Temp\\ipykernel_10376\\3635345530.py:27: RuntimeWarning: overflow encountered in exp\n",
      "  p_delayed = 1.0 / (1.0 + np.exp(-beta * (sv_delayed - sv_immediates[i])))\n",
      "C:\\Users\\Nicla\\AppData\\Local\\Temp\\ipykernel_10376\\3635345530.py:27: RuntimeWarning: overflow encountered in exp\n",
      "  p_delayed = 1.0 / (1.0 + np.exp(-beta * (sv_delayed - sv_immediates[i])))\n",
      "C:\\Users\\Nicla\\AppData\\Local\\Temp\\ipykernel_10376\\3635345530.py:27: RuntimeWarning: overflow encountered in exp\n",
      "  p_delayed = 1.0 / (1.0 + np.exp(-beta * (sv_delayed - sv_immediates[i])))\n"
     ]
    }
   ],
   "source": [
    "# Initialize an empty list to store beta results\n",
    "results_beta = []\n",
    "\n",
    "i = 0\n",
    "\n",
    "for participant in TRAIN_DATA:\n",
    "    # Minimize the log likelihood function to find the best beta value\n",
    "    result = minimize(log_likelihood_beta, INITIAL_beta, args=(TRAIN_DATA, participant, i))\n",
    "    results_beta.append(result.x)\n",
    "\n",
    "    i += 1"
   ]
  },
  {
   "cell_type": "markdown",
   "metadata": {},
   "source": [
    "We now have $k$ and $\\beta$ values that we can universally use for all models."
   ]
  },
  {
   "cell_type": "markdown",
   "metadata": {},
   "source": [
    "---\n",
    "# Accuracy test\n",
    "---"
   ]
  },
  {
   "cell_type": "markdown",
   "metadata": {},
   "source": [
    "We define a function that predicts choices given the $k$ and $\\beta$ of the participant. \\\n",
    "The model will predict the action to be <i>immediate</i> if $p \\leq 0.5$, else <i>delayed</i>."
   ]
  },
  {
   "cell_type": "code",
   "execution_count": 35,
   "metadata": {},
   "outputs": [],
   "source": [
    "def predict_choices(k, beta, participant):\n",
    "    data_matrix = TEST_DATA[participant]\n",
    "\n",
    "    sv_immediates = data_matrix[LABEL_IMM_OUT]\n",
    "    delayed_outcomes = data_matrix[LABEL_DEL_OUT]\n",
    "    delays = data_matrix[LABEL_RT]\n",
    "\n",
    "    sample_size = len(data_matrix)\n",
    "    \n",
    "    predicted_choices = []\n",
    "    \n",
    "    # Loop through each sample in the data matrix\n",
    "    for i in range(sample_size):\n",
    "        # Calculate the subjective value of the delayed outcome\n",
    "        sv_delayed = delayed_outcomes[i] / (1.0 + k * max(delays[i], 1e-10))\n",
    "        \n",
    "        # Calculate the probability of choosing the delayed outcome\n",
    "        p_delayed = 1.0 / (1.0 + np.exp(-beta * (sv_delayed - sv_immediates[i])))\n",
    "        p_delayed = np.clip(p_delayed, 1e-10, 1.0 - 1e-10)\n",
    "        \n",
    "        if p_delayed > 0.5:\n",
    "            predicted_choices.append(1)\n",
    "        else:\n",
    "            predicted_choices.append(0)\n",
    "    \n",
    "    return predicted_choices"
   ]
  },
  {
   "cell_type": "markdown",
   "metadata": {},
   "source": [
    "We further define a function that calculates the prediction accuries by comparing the predictions to the actual choices made in the test-dataset. The output ranges from 0-100 (percentage)."
   ]
  },
  {
   "cell_type": "code",
   "execution_count": 36,
   "metadata": {},
   "outputs": [],
   "source": [
    "def predict_accuracies(k, beta, participant):\n",
    "    predicted_choices = predict_choices(k, beta, participant)\n",
    "    \n",
    "    actions = TEST_DATA[participant][LABEL_CHOICE]\n",
    "    \n",
    "    sample_size = len(actions)\n",
    "    \n",
    "    clamped_actions = action_values_clamp01(actions)\n",
    "\n",
    "    correct_guesses = 0\n",
    "    \n",
    "    for i in range(sample_size):\n",
    "        if clamped_actions[i] == predicted_choices[i]:\n",
    "            correct_guesses += 1\n",
    "    \n",
    "    return correct_guesses / sample_size * 100"
   ]
  },
  {
   "cell_type": "markdown",
   "metadata": {},
   "source": [
    "Now we can test the accuracies we would get when using the $k$ and $\\beta$ values we calculated above only (meaning no model). "
   ]
  },
  {
   "cell_type": "code",
   "execution_count": 37,
   "metadata": {},
   "outputs": [
    {
     "name": "stderr",
     "output_type": "stream",
     "text": [
      "C:\\Users\\Nicla\\AppData\\Local\\Temp\\ipykernel_10376\\2062185492.py:18: RuntimeWarning: overflow encountered in exp\n",
      "  p_delayed = 1.0 / (1.0 + np.exp(-beta * (sv_delayed - sv_immediates[i])))\n"
     ]
    },
    {
     "data": {
      "image/png": "[encoded data removed]",
      "text/plain": [
       "<Figure size 640x480 with 1 Axes>"
      ]
     },
     "metadata": {},
     "output_type": "display_data"
    }
   ],
   "source": [
    "PREDICTION_ACCURACIES_k_beta = []\n",
    "\n",
    "for i, participant in enumerate(TEST_DATA):\n",
    "    accuracy_score = predict_accuracies(results_k[i], results_beta[i], participant)\n",
    "    PREDICTION_ACCURACIES_k_beta.append(accuracy_score)\n",
    "\n",
    "plt.hist(PREDICTION_ACCURACIES_k_beta, bins=10, color=\"lightgreen\", edgecolor=\"black\")\n",
    "plt.title(\"Accuracies for each participant\")\n",
    "plt.xlabel(\"Accuracy (%)\")\n",
    "plt.ylabel(\"Frequency\")\n",
    "plt.show()\n"
   ]
  },
  {
   "cell_type": "markdown",
   "metadata": {},
   "source": [
    "---\n",
    "# Distribution of reaction times\n",
    "---"
   ]
  },
  {
   "cell_type": "markdown",
   "metadata": {},
   "source": [
    "Another step we will need to do is extract all the reaction times from the dataset."
   ]
  },
  {
   "cell_type": "code",
   "execution_count": 38,
   "metadata": {},
   "outputs": [],
   "source": [
    "def get_reaction_times(data_set):\n",
    "    reaction_times = []\n",
    "    \n",
    "    # Get reaction times from each participant in the training data\n",
    "    for participant in data_set:\n",
    "        data_matrix = TRAIN_DATA[participant]\n",
    "        reaction_times.append((data_matrix[LABEL_RT]))\n",
    "    \n",
    "    return reaction_times"
   ]
  },
  {
   "cell_type": "markdown",
   "metadata": {},
   "source": [
    "We can now get started with our first model."
   ]
  },
  {
   "cell_type": "markdown",
   "metadata": {},
   "source": [
    "---\n",
    "# Model 1: Ex-Gaussian Model\n",
    "---"
   ]
  },
  {
   "cell_type": "markdown",
   "metadata": {},
   "source": [
    "Fit an Ex-Gaussian distribution to the reaction time data using scipy.exponnorm"
   ]
  },
  {
   "cell_type": "code",
   "execution_count": 39,
   "metadata": {},
   "outputs": [],
   "source": [
    "TRAIN_RTs = get_reaction_times(TRAIN_DATA)\n",
    "\n",
    "# Ensure each reaction_time_record is a 1-dimensional array and remove NaN values\n",
    "# reaction_times_model_1 = [np.array(rt).flatten() for rt in TRAIN_RTs]\n",
    "# reaction_times = [rt[~np.isnan(rt)] for rt in TRAIN_RTs]\n",
    "\n",
    "ex_gaussian_fits = []\n",
    "\n",
    "for rt in TRAIN_RTs:\n",
    "    #fits.append(exponnorm.fit(reaction_time_record))\n",
    "    ex_gaussian_fits.append(exponnorm.fit(rt))\n",
    "\n",
    "n = len(ex_gaussian_fits)\n",
    "\n",
    "# Extracting the parameters\n",
    "K_values = [ex_gaussian_fits[i][0] for i in range(n)]\n",
    "loc_values = [ex_gaussian_fits[i][1] for i in range(n)]\n",
    "scale_values = [ex_gaussian_fits[i][2] for i in range(n)]\n",
    "\n",
    "tau_values = [K_values[i] * scale_values[i] for i in range(n)]\n",
    "mu_values = loc_values\n",
    "sigma_values = scale_values"
   ]
  },
  {
   "cell_type": "markdown",
   "metadata": {},
   "source": [
    "## Testing the null hypothesis"
   ]
  },
  {
   "cell_type": "code",
   "execution_count": 40,
   "metadata": {},
   "outputs": [
    {
     "name": "stdout",
     "output_type": "stream",
     "text": [
      "Reject null hypothesis for participant with id 56: 0.0473\n"
     ]
    }
   ],
   "source": [
    "# Initialize lists to store fitted CDFs, KS statistics, and p-values\n",
    "fitted_cdfs = []\n",
    "ks_statistics = []\n",
    "p_values = []\n",
    "\n",
    "# Loop through each set of K, mu, and sigma values\n",
    "for i in range(len(K_values)):\n",
    "    # Create a lambda function for the fitted CDF using the exponentially modified normal distribution\n",
    "    fitted_cdfs.append(lambda x: exponnorm.cdf(x, K_values[i], loc=mu_values[i], scale=sigma_values[i]))\n",
    "    \n",
    "    # Perform the Kolmogorov-Smirnov test for goodness of fit\n",
    "    ks_statistic, p_value = ks_1samp(TRAIN_RTs[i], fitted_cdfs[i])\n",
    "    \n",
    "    # Append the KS statistic and p-value to their respective lists\n",
    "    ks_statistics.append(ks_statistic)\n",
    "    p_values.append(p_value)\n",
    "\n",
    "\n",
    "i = 0\n",
    "\n",
    "for p_value in p_values:\n",
    "    # Check if the p-value is less than 0.05 (significance level)\n",
    "    if p_value < 0.05:\n",
    "        print(f\"Reject null hypothesis for participant with id {i}: {p_value:.4f}\")\n",
    "\n",
    "    i += 1\n",
    "\n",
    "# [DEBUG] Print the mean of all p-values\n",
    "# print(f\"Mean of all p_values: {np.mean(p_values):.4f}\")"
   ]
  },
  {
   "cell_type": "markdown",
   "metadata": {},
   "source": [
    "The null hyptothesis test demonstrates that the model holds true for all participants except for participant <b>#57</b>. \\\n",
    "The mean <i>p_value</i> lies at 0.7738. \\\n",
    "For every single other participant, the <i>p_value</i> is much greater than 0.05, meaning that there is an extremely small to no difference between our data and the ex-gaussian distribution. Therefore, we are going to use this approach to build our bimodal model."
   ]
  },
  {
   "cell_type": "markdown",
   "metadata": {},
   "source": [
    "## Creating a unified log-likelihood function"
   ]
  },
  {
   "cell_type": "markdown",
   "metadata": {},
   "source": [
    "We first need to define the Ex-Gaussian-likelihood function:"
   ]
  },
  {
   "cell_type": "code",
   "execution_count": 41,
   "metadata": {},
   "outputs": [],
   "source": [
    "def ex_gaussian_likelihood(participant_reaction_times, K_value, mu_value, sigma_value):\n",
    "    return exponnorm.logpdf(participant_reaction_times, K_value, loc=mu_value, scale=sigma_value)"
   ]
  },
  {
   "cell_type": "markdown",
   "metadata": {},
   "source": [
    "The joint-log-likelihood can be calculated by the expression  $$log_{L,i}(joint)=log_{L,i}(p_{delay, i}) + log_{L,i}(reactiontime_i)$$"
   ]
  },
  {
   "cell_type": "code",
   "execution_count": 42,
   "metadata": {},
   "outputs": [],
   "source": [
    "def joint_log_likelihood_train(params, data_set, participant, i):\n",
    "    log_L = 0\n",
    "    mu, sigma, K, beta, k = params\n",
    "    \n",
    "    # Initialize the log likelihood for the current participant\n",
    "    Log_L_p_delay = 0\n",
    "    log_L_rt = 0\n",
    "    \n",
    "    data_matrix = data_set[participant]\n",
    "    \n",
    "    sample_size = len(data_matrix)\n",
    "    \n",
    "    sv_immediates = data_matrix[LABEL_IMM_OUT]\n",
    "    delayed_outcomes = data_matrix[LABEL_DEL_OUT]\n",
    "    delays = data_matrix[LABEL_DELAY]\n",
    "    actions = data_matrix[LABEL_CHOICE]\n",
    "    \n",
    "    # Clamp action values to be between 0 and 1\n",
    "    clamped_actions = action_values_clamp01(actions)\n",
    "    \n",
    "    for j in range(sample_size):\n",
    "        reaction_time_likelihood = ex_gaussian_likelihood(TRAIN_RTs[i][j], K, mu, sigma)\n",
    "\n",
    "        log_L_rt += reaction_time_likelihood\n",
    "        \n",
    "        # Calculate the subjective value of the delayed outcome\n",
    "        sv_delayed = delayed_outcomes[j] / (1.0 + k * max(delays[j], 1e-10))\n",
    "        \n",
    "        # Calculate the probability of choosing the delayed outcome\n",
    "        p_delayed = 1.0 / (1.0 + np.exp(-beta * (sv_delayed - sv_immediates[j])))\n",
    "        p_delayed = np.clip(p_delayed, 1e-10, 1.0 - 1e-10)\n",
    "        \n",
    "        # Update the log likelihood for the current participant\n",
    "        Log_L_p_delay += clamped_actions[j] * np.log(p_delayed) + (1.0 - clamped_actions[j]) * np.log(1.0 - p_delayed)\n",
    "    \n",
    "    # Update the overall log likelihood\n",
    "    log_L += Log_L_p_delay\n",
    "    log_L += log_L_rt\n",
    "    \n",
    "    return -log_L"
   ]
  },
  {
   "cell_type": "markdown",
   "metadata": {},
   "source": [
    "With this function we can now optimize $\\mu$, $\\sigma$, $K$, $\\beta$ and $k$."
   ]
  },
  {
   "cell_type": "code",
   "execution_count": 43,
   "metadata": {},
   "outputs": [
    {
     "name": "stderr",
     "output_type": "stream",
     "text": [
      "C:\\Users\\Nicla\\AppData\\Local\\Temp\\ipykernel_10376\\2571579530.py:30: RuntimeWarning: overflow encountered in exp\n",
      "  p_delayed = 1.0 / (1.0 + np.exp(-beta * (sv_delayed - sv_immediates[j])))\n"
     ]
    }
   ],
   "source": [
    "# Initialize index and results list\n",
    "results_model_1 = []\n",
    "\n",
    "# Loop through each participant in the training data\n",
    "for i, participant in enumerate(TRAIN_DATA):\n",
    "    \n",
    "    # Extract the initial parameters for the current participant\n",
    "    # initial params seemed buggy, potential fix:\n",
    "    initial_params = [\n",
    "        np.ravel(mu_values[i])[0],\n",
    "        np.ravel(sigma_values[i])[0],\n",
    "        np.ravel(K_values[i])[0],\n",
    "        np.ravel(results_beta[i])[0],\n",
    "        np.ravel(results_k[i])[0]\n",
    "    ]\n",
    "    \n",
    "    bounds = [\n",
    "        (None, None),\n",
    "        (None, None),\n",
    "        (None, None),\n",
    "        (0.1, 10),\n",
    "        (1e-6, 1)\n",
    "    ]\n",
    "    \n",
    "    # Convert the initial parameters to np.array\n",
    "    initial_params = np.array(initial_params)\n",
    "    \n",
    "    # Minimizing\n",
    "    result = minimize(joint_log_likelihood_train, initial_params, args=(TRAIN_DATA, participant, i), bounds=bounds)\n",
    "    results_model_1.append(result.x)"
   ]
  },
  {
   "cell_type": "markdown",
   "metadata": {},
   "source": [
    "Now let's look at the results:"
   ]
  },
  {
   "cell_type": "code",
   "execution_count": 44,
   "metadata": {},
   "outputs": [
    {
     "name": "stdout",
     "output_type": "stream",
     "text": [
      "mu_value = 1124.411519670277\n",
      "sigma_value = 123.0040977634712\n",
      "K_value = 8.077244568725757\n",
      "beta_result = 0.2788544204952753\n",
      "k_result = 0.014790936032792561\n",
      "--------------------------------\n",
      "mu_value = 1076.9662762228643\n",
      "sigma_value = 186.47762778369798\n",
      "K_value = 4.075080232909666\n",
      "beta_result = 10.0\n",
      "k_result = 0.028124611539429047\n",
      "--------------------------------\n",
      "mu_value = 1994.4924037750434\n",
      "sigma_value = 154.45720612460767\n",
      "K_value = 5.219455817733677\n",
      "beta_result = 4.466463371468437\n",
      "k_result = 0.0013485850664986766\n",
      "--------------------------------\n",
      "mu_value = 978.1262109088717\n",
      "sigma_value = 205.2174706154246\n",
      "K_value = 1.5685861463717583\n",
      "beta_result = 6.025890914314569\n",
      "k_result = 0.00976619134590919\n",
      "--------------------------------\n",
      "mu_value = 1460.0617128818483\n",
      "sigma_value = 243.2063335014367\n",
      "K_value = 2.01340660749924\n",
      "beta_result = 1.605971299497198\n",
      "k_result = 0.008564363763044244\n",
      "--------------------------------\n",
      "mu_value = 1749.990024620202\n",
      "sigma_value = 354.64144971508847\n",
      "K_value = 1.2165428709074022\n",
      "beta_result = 10.0\n",
      "k_result = 0.5467887867174498\n",
      "--------------------------------\n",
      "mu_value = 1840.6035855152677\n",
      "sigma_value = 160.65802432228716\n",
      "K_value = 6.013931755574376\n",
      "beta_result = 5.517930488756033\n",
      "k_result = 0.009139558478266079\n",
      "--------------------------------\n",
      "mu_value = 1130.312791736581\n",
      "sigma_value = 172.43532209695195\n",
      "K_value = 2.6102886663938776\n",
      "beta_result = 5.001137498590378\n",
      "k_result = 8.749827126948566e-05\n",
      "--------------------------------\n",
      "mu_value = 971.0515234353713\n",
      "sigma_value = 94.86074927126892\n",
      "K_value = 5.750342282868253\n",
      "beta_result = 1.2289634458089318\n",
      "k_result = 0.0010558384504569004\n",
      "--------------------------------\n",
      "mu_value = 958.3164765623661\n",
      "sigma_value = 223.83520118498856\n",
      "K_value = 1.2773763706327677\n",
      "beta_result = 0.1\n",
      "k_result = 0.23007922115237184\n",
      "--------------------------------\n",
      "mu_value = 1100.6389350075815\n",
      "sigma_value = 51.512567811035446\n",
      "K_value = 17.517661596164835\n",
      "beta_result = 5.442211881173\n",
      "k_result = 0.00879396970532461\n",
      "--------------------------------\n",
      "mu_value = 1449.8704467457978\n",
      "sigma_value = 291.70982452554006\n",
      "K_value = 1.3371932424040112\n",
      "beta_result = 0.34970330412516804\n",
      "k_result = 0.0014613636476450817\n",
      "--------------------------------\n",
      "mu_value = 1060.5794152340254\n",
      "sigma_value = 185.5518244298523\n",
      "K_value = 5.086070121944895\n",
      "beta_result = 0.9341785009354905\n",
      "k_result = 0.08981804192342686\n",
      "--------------------------------\n",
      "mu_value = 1312.7740922605078\n",
      "sigma_value = 259.7053915763833\n",
      "K_value = 2.414157279470527\n",
      "beta_result = 5.513810104362591\n",
      "k_result = 0.008696080889125463\n",
      "--------------------------------\n",
      "mu_value = 1408.1246562153735\n",
      "sigma_value = 295.6958761288985\n",
      "K_value = 3.552549020001802\n",
      "beta_result = 1.6764505564800405\n",
      "k_result = 0.00016858696864555765\n",
      "--------------------------------\n",
      "mu_value = 1600.9749306455856\n",
      "sigma_value = 429.5085257232989\n",
      "K_value = 2.6259783189792927\n",
      "beta_result = 5.217817686534299\n",
      "k_result = 0.0009540524819682678\n",
      "--------------------------------\n",
      "mu_value = 1742.3775164396925\n",
      "sigma_value = 236.80328870817996\n",
      "K_value = 6.33135184689118\n",
      "beta_result = 1.2825201704384768\n",
      "k_result = 0.010206549433808344\n",
      "--------------------------------\n",
      "mu_value = 1131.1212294055133\n",
      "sigma_value = 142.75200765271427\n",
      "K_value = 2.388285122309786\n",
      "beta_result = 1.2581616155850046\n",
      "k_result = 0.0010814400604965114\n",
      "--------------------------------\n",
      "mu_value = 916.8736048729579\n",
      "sigma_value = 107.6828472728102\n",
      "K_value = 4.593049432516666\n",
      "beta_result = 0.6258625207401936\n",
      "k_result = 0.0003823365371205433\n",
      "--------------------------------\n",
      "mu_value = 1388.987488557669\n",
      "sigma_value = 371.6108879784938\n",
      "K_value = 2.988132311092711\n",
      "beta_result = 1.9431077354222297\n",
      "k_result = 0.0007231959969910034\n",
      "--------------------------------\n",
      "mu_value = 1231.0254810776253\n",
      "sigma_value = 308.77393132075315\n",
      "K_value = 1.7176993834118175\n",
      "beta_result = 2.0129645266218783\n",
      "k_result = 0.0005146401856906544\n",
      "--------------------------------\n",
      "mu_value = 1278.2431134068463\n",
      "sigma_value = 333.55411639553165\n",
      "K_value = 1.1201125449638527\n",
      "beta_result = 1.2113482435278506\n",
      "k_result = 0.0007197885674459604\n",
      "--------------------------------\n",
      "mu_value = 915.5872758770123\n",
      "sigma_value = 189.40733653533937\n",
      "K_value = 1.7816614493344436\n",
      "beta_result = 0.14994708015797611\n",
      "k_result = 0.254110258687696\n",
      "--------------------------------\n",
      "mu_value = 1478.0561979643057\n",
      "sigma_value = 104.98754733326682\n",
      "K_value = 11.20974737040752\n",
      "beta_result = 1.44238057143715\n",
      "k_result = 0.00916172969818694\n",
      "--------------------------------\n",
      "mu_value = 1216.5436308117914\n",
      "sigma_value = 156.7720046358965\n",
      "K_value = 4.678752463616727\n",
      "beta_result = 0.7337196782651179\n",
      "k_result = 0.0015653486733256162\n",
      "--------------------------------\n",
      "mu_value = 845.6524916339348\n",
      "sigma_value = 96.96803140671659\n",
      "K_value = 6.08810258036932\n",
      "beta_result = 4.642868458356884\n",
      "k_result = 0.013928240905939589\n",
      "--------------------------------\n",
      "mu_value = 992.3253018211561\n",
      "sigma_value = 265.7723860695602\n",
      "K_value = 2.6252811382188947\n",
      "beta_result = 4.658812158831228\n",
      "k_result = 0.5721207468871757\n",
      "--------------------------------\n",
      "mu_value = 852.065216164204\n",
      "sigma_value = 141.2761652853927\n",
      "K_value = 2.933507008213619\n",
      "beta_result = 10.0\n",
      "k_result = 1e-06\n",
      "--------------------------------\n",
      "mu_value = 1159.1120957755345\n",
      "sigma_value = 242.54748801811314\n",
      "K_value = 1.8394609940551068\n",
      "beta_result = 4.03768185610404\n",
      "k_result = 0.009887007733610158\n",
      "--------------------------------\n",
      "mu_value = 1244.9980108074587\n",
      "sigma_value = 153.40577265208051\n",
      "K_value = 4.649731841394466\n",
      "beta_result = 0.7928141873134857\n",
      "k_result = 0.0005550062473568871\n",
      "--------------------------------\n",
      "mu_value = 1404.864506783315\n",
      "sigma_value = 157.53212921116656\n",
      "K_value = 5.178192408121964\n",
      "beta_result = 0.40165318850170834\n",
      "k_result = 0.010210130779321255\n",
      "--------------------------------\n",
      "mu_value = 1033.8554601585968\n",
      "sigma_value = 235.65693819779696\n",
      "K_value = 1.2283788192844778\n",
      "beta_result = 0.41476937062391156\n",
      "k_result = 0.011959480673739921\n",
      "--------------------------------\n",
      "mu_value = 1287.720050214722\n",
      "sigma_value = 139.42650670496792\n",
      "K_value = 5.186020849632525\n",
      "beta_result = 5.596127796386218\n",
      "k_result = 0.009559393400920204\n",
      "--------------------------------\n",
      "mu_value = 1714.4594758041105\n",
      "sigma_value = 267.0343865581445\n",
      "K_value = 3.0941585262028877\n",
      "beta_result = 3.2477224822286916\n",
      "k_result = 0.010751700831833355\n",
      "--------------------------------\n",
      "mu_value = 1149.6592259810452\n",
      "sigma_value = 251.59701014312327\n",
      "K_value = 4.450954753115943\n",
      "beta_result = 0.9114389176170484\n",
      "k_result = 0.0006881052392652063\n",
      "--------------------------------\n",
      "mu_value = 713.0901717592648\n",
      "sigma_value = 80.39589770807005\n",
      "K_value = 5.935623103140504\n",
      "beta_result = 2.9580308881641995\n",
      "k_result = 0.00030017009097196504\n",
      "--------------------------------\n",
      "mu_value = 1367.309445838814\n",
      "sigma_value = 121.77740522316799\n",
      "K_value = 5.041711289853532\n",
      "beta_result = 1.2808960691701747\n",
      "k_result = 0.058015669961782326\n",
      "--------------------------------\n",
      "mu_value = 1078.6148833210596\n",
      "sigma_value = 124.43816082524323\n",
      "K_value = 5.989803728776306\n",
      "beta_result = 0.15535748789450646\n",
      "k_result = 0.22357748089486087\n",
      "--------------------------------\n",
      "mu_value = 1543.7949581897624\n",
      "sigma_value = 218.4233716980446\n",
      "K_value = 2.5457614360620076\n",
      "beta_result = 1.1034151222244946\n",
      "k_result = 0.010095768406779497\n",
      "--------------------------------\n",
      "mu_value = 1387.0494454807404\n",
      "sigma_value = 271.361987927792\n",
      "K_value = 2.754394804926434\n",
      "beta_result = 5.631218627003867\n",
      "k_result = 0.009574580949212208\n",
      "--------------------------------\n",
      "mu_value = 1207.1246815268055\n",
      "sigma_value = 133.65241876350893\n",
      "K_value = 6.362001043087699\n",
      "beta_result = 0.12380669909377952\n",
      "k_result = 0.11626089031873994\n",
      "--------------------------------\n",
      "mu_value = 910.2975003207968\n",
      "sigma_value = 149.23418084468983\n",
      "K_value = 4.56302078071634\n",
      "beta_result = 0.5133309076533858\n",
      "k_result = 0.0014876194109883357\n",
      "--------------------------------\n",
      "mu_value = 1439.0027551422284\n",
      "sigma_value = 352.7311876165567\n",
      "K_value = 3.379960009913574\n",
      "beta_result = 7.564584551575444\n",
      "k_result = 0.010077743799586985\n",
      "--------------------------------\n",
      "mu_value = 877.4158354475467\n",
      "sigma_value = 108.88059110025222\n",
      "K_value = 6.112517427085617\n",
      "beta_result = 10.0\n",
      "k_result = 0.5792572681284863\n",
      "--------------------------------\n",
      "mu_value = 1065.0781185640383\n",
      "sigma_value = 290.82398251270587\n",
      "K_value = 1.1127561914356268\n",
      "beta_result = 6.554556833067121\n",
      "k_result = 0.14711640966374118\n",
      "--------------------------------\n",
      "mu_value = 952.4951802971856\n",
      "sigma_value = 78.7469121959004\n",
      "K_value = 7.391286902121876\n",
      "beta_result = 5.572342813240356\n",
      "k_result = 0.009133996744304299\n",
      "--------------------------------\n",
      "mu_value = 896.8503265399613\n",
      "sigma_value = 107.48681941240393\n",
      "K_value = 8.712926873896981\n",
      "beta_result = 4.314849033486402\n",
      "k_result = 0.008578701313890796\n",
      "--------------------------------\n",
      "mu_value = 1299.6992787394317\n",
      "sigma_value = 290.0737320509818\n",
      "K_value = 4.015777585006901\n",
      "beta_result = 1.045656049279977\n",
      "k_result = 0.0007505143637689228\n",
      "--------------------------------\n",
      "mu_value = 1123.6098801868327\n",
      "sigma_value = 144.40527648689593\n",
      "K_value = 6.643603226915246\n",
      "beta_result = 7.011156250812151\n",
      "k_result = 0.009881590556846233\n",
      "--------------------------------\n",
      "mu_value = 906.47886706197\n",
      "sigma_value = 163.33363665652197\n",
      "K_value = 3.735355259064826\n",
      "beta_result = 2.2232931465874723\n",
      "k_result = 0.009940512992760712\n",
      "--------------------------------\n",
      "mu_value = 1036.629436136337\n",
      "sigma_value = 239.23602130726567\n",
      "K_value = 4.6856597153844515\n",
      "beta_result = 0.1\n",
      "k_result = 1e-06\n",
      "--------------------------------\n",
      "mu_value = 1483.6687318974991\n",
      "sigma_value = 237.90426022763535\n",
      "K_value = 2.9095762679399817\n",
      "beta_result = 0.3265563704750508\n",
      "k_result = 0.0013337731973919694\n",
      "--------------------------------\n",
      "mu_value = 1125.811769571592\n",
      "sigma_value = 179.287287221701\n",
      "K_value = 2.7289791682694085\n",
      "beta_result = 5.393167624432461\n",
      "k_result = 0.009540900299506043\n",
      "--------------------------------\n",
      "mu_value = 676.9291453637742\n",
      "sigma_value = 180.4918994094784\n",
      "K_value = 3.746793081671415\n",
      "beta_result = 0.1\n",
      "k_result = 0.0032455011303785465\n",
      "--------------------------------\n",
      "mu_value = 1165.8225882081445\n",
      "sigma_value = 122.1127920460793\n",
      "K_value = 6.533337567850106\n",
      "beta_result = 4.4646442555781976\n",
      "k_result = 1e-06\n",
      "--------------------------------\n",
      "mu_value = 1184.7757095269556\n",
      "sigma_value = 163.38300770144755\n",
      "K_value = 6.174683648390624\n",
      "beta_result = 1.0345090257440734\n",
      "k_result = 0.010065108350532306\n",
      "--------------------------------\n",
      "mu_value = 1074.5052045041389\n",
      "sigma_value = 110.68890065915615\n",
      "K_value = 12.546950387786177\n",
      "beta_result = 0.3406830350106871\n",
      "k_result = 0.00938573855766715\n",
      "--------------------------------\n",
      "mu_value = 1271.7822273448248\n",
      "sigma_value = 167.5138707746402\n",
      "K_value = 3.472988437999548\n",
      "beta_result = 5.611978845992846\n",
      "k_result = 0.009827305078908454\n",
      "--------------------------------\n",
      "mu_value = 976.324624196159\n",
      "sigma_value = 122.80408542133954\n",
      "K_value = 6.956227520723895\n",
      "beta_result = 9.757224622057487\n",
      "k_result = 0.6009710888610176\n",
      "--------------------------------\n",
      "mu_value = 1526.0698252515685\n",
      "sigma_value = 200.58281004128642\n",
      "K_value = 1.9678716392260063\n",
      "beta_result = 0.36396213602689587\n",
      "k_result = 0.011700844043743932\n",
      "--------------------------------\n",
      "mu_value = 1774.3270420530557\n",
      "sigma_value = 385.92268203023053\n",
      "K_value = 2.8837325373496987\n",
      "beta_result = 0.4607403216737887\n",
      "k_result = 0.00829026870563745\n",
      "--------------------------------\n",
      "mu_value = 1491.1846144076226\n",
      "sigma_value = 343.3863258856778\n",
      "K_value = 1.4721738314227342\n",
      "beta_result = 3.7135036351501323\n",
      "k_result = 0.009198225420915302\n",
      "--------------------------------\n",
      "mu_value = 1708.8916093302269\n",
      "sigma_value = 79.93402249238947\n",
      "K_value = 8.754350032905148\n",
      "beta_result = 5.433471959289483\n",
      "k_result = 0.009418845307894441\n",
      "--------------------------------\n",
      "mu_value = 1315.728643385198\n",
      "sigma_value = 225.39983624235484\n",
      "K_value = 1.637255306542437\n",
      "beta_result = 0.26578891838798757\n",
      "k_result = 0.01699419932660987\n",
      "--------------------------------\n",
      "mu_value = 1516.9172584773114\n",
      "sigma_value = 267.3699840981835\n",
      "K_value = 2.3132252633366472\n",
      "beta_result = 1.6083911264965463\n",
      "k_result = 0.005426434842377982\n",
      "--------------------------------\n",
      "mu_value = 1257.7414931893384\n",
      "sigma_value = 186.38344686666923\n",
      "K_value = 2.731002934383489\n",
      "beta_result = 1.4842427736229291\n",
      "k_result = 0.00850142016391311\n",
      "--------------------------------\n",
      "mu_value = 1313.3858137526292\n",
      "sigma_value = 80.96491883958858\n",
      "K_value = 9.895683913840559\n",
      "beta_result = 0.4191824889624265\n",
      "k_result = 0.0011538289684578814\n",
      "--------------------------------\n",
      "mu_value = 1700.9524536944207\n",
      "sigma_value = 290.28764429544947\n",
      "K_value = 1.7793308001860035\n",
      "beta_result = 0.10436654295986751\n",
      "k_result = 0.00462479113722045\n",
      "--------------------------------\n",
      "mu_value = 1100.734999081708\n",
      "sigma_value = 123.27423848428597\n",
      "K_value = 6.4360781616674005\n",
      "beta_result = 1.495234088194447\n",
      "k_result = 0.009229254293019648\n",
      "--------------------------------\n",
      "mu_value = 1214.3742415823842\n",
      "sigma_value = 114.9340411772512\n",
      "K_value = 7.497923374618258\n",
      "beta_result = 5.527742318898571\n",
      "k_result = 0.009794395213586044\n",
      "--------------------------------\n",
      "mu_value = 776.6878740052213\n",
      "sigma_value = 148.0841185317862\n",
      "K_value = 7.587461064569556\n",
      "beta_result = 10.0\n",
      "k_result = 0.028124624614122774\n",
      "--------------------------------\n",
      "mu_value = 1179.5812247651168\n",
      "sigma_value = 132.39825724600274\n",
      "K_value = 4.483176950044422\n",
      "beta_result = 1.878166452802221\n",
      "k_result = 0.009181947752825291\n",
      "--------------------------------\n",
      "mu_value = 1219.4574758686447\n",
      "sigma_value = 132.41686581020159\n",
      "K_value = 2.79300440720595\n",
      "beta_result = 0.14581645441088634\n",
      "k_result = 0.2925211756205163\n",
      "--------------------------------\n",
      "mu_value = 1698.514137370118\n",
      "sigma_value = 287.8754738959085\n",
      "K_value = 1.3797003343348166\n",
      "beta_result = 1.3535881257210642\n",
      "k_result = 0.009871878996509485\n",
      "--------------------------------\n",
      "mu_value = 1205.2451790508367\n",
      "sigma_value = 169.0481320754943\n",
      "K_value = 6.225320486116272\n",
      "beta_result = 7.108638923160899\n",
      "k_result = 0.009950878006548406\n",
      "--------------------------------\n",
      "mu_value = 567.0819871605538\n",
      "sigma_value = 209.46618808177493\n",
      "K_value = 1.7705245106692922\n",
      "beta_result = 0.1\n",
      "k_result = 0.002648281633900624\n",
      "--------------------------------\n",
      "mu_value = 1130.735544833341\n",
      "sigma_value = 144.04070285299002\n",
      "K_value = 4.571238890492934\n",
      "beta_result = 5.23838654471234\n",
      "k_result = 0.6037571618489819\n",
      "--------------------------------\n",
      "mu_value = 962.4376988466393\n",
      "sigma_value = 112.27709832878148\n",
      "K_value = 9.244082418825633\n",
      "beta_result = 0.5611612995219109\n",
      "k_result = 0.0010953708994148876\n",
      "--------------------------------\n",
      "mu_value = 857.2710483862905\n",
      "sigma_value = 127.43993369458838\n",
      "K_value = 2.884732115082164\n",
      "beta_result = 0.8395772622721629\n",
      "k_result = 0.0008679551832564938\n",
      "--------------------------------\n",
      "mu_value = 1391.8691429772164\n",
      "sigma_value = 310.22231195228306\n",
      "K_value = 2.8482763597635397\n",
      "beta_result = 4.565961826181282\n",
      "k_result = 0.5299048194794549\n",
      "--------------------------------\n",
      "mu_value = 896.7616252839973\n",
      "sigma_value = 56.03766182017646\n",
      "K_value = 15.583612314812676\n",
      "beta_result = 0.4049554790609676\n",
      "k_result = 0.0011556722073762548\n",
      "--------------------------------\n",
      "mu_value = 1019.0206849732393\n",
      "sigma_value = 160.52823709913486\n",
      "K_value = 3.02931301931094\n",
      "beta_result = 0.27376129472176425\n",
      "k_result = 0.0006816528575490685\n",
      "--------------------------------\n",
      "mu_value = 781.4819643977895\n",
      "sigma_value = 131.40787846315772\n",
      "K_value = 2.285418642041333\n",
      "beta_result = 3.4601133413570877\n",
      "k_result = 0.009546945713101072\n",
      "--------------------------------\n",
      "mu_value = 1576.5398451492033\n",
      "sigma_value = 114.9550971762488\n",
      "K_value = 5.8128799804343\n",
      "beta_result = 2.8222776390717557\n",
      "k_result = 0.010058237905575636\n",
      "--------------------------------\n",
      "mu_value = 1104.0938719310695\n",
      "sigma_value = 185.82189639061247\n",
      "K_value = 3.1247081567089547\n",
      "beta_result = 6.524009474061944\n",
      "k_result = 0.20682137044347557\n",
      "--------------------------------\n",
      "mu_value = 1507.6329816662387\n",
      "sigma_value = 217.10812807505988\n",
      "K_value = 5.711177319231198\n",
      "beta_result = 0.5763965321973973\n",
      "k_result = 0.001091723562277157\n",
      "--------------------------------\n",
      "mu_value = 1297.0841526036731\n",
      "sigma_value = 170.57197452731316\n",
      "K_value = 1.4964284585904046\n",
      "beta_result = 0.13454578390746466\n",
      "k_result = 0.02333078287140107\n",
      "--------------------------------\n",
      "mu_value = 1690.6906862194423\n",
      "sigma_value = 197.03199904003523\n",
      "K_value = 3.909087207133228\n",
      "beta_result = 7.603446830192212\n",
      "k_result = 0.0009541902635672581\n",
      "--------------------------------\n",
      "mu_value = 1120.4785500689381\n",
      "sigma_value = 201.29210848396423\n",
      "K_value = 4.188616188923498\n",
      "beta_result = 7.100366468862313\n",
      "k_result = 0.009951986421587601\n",
      "--------------------------------\n",
      "mu_value = 910.541178465852\n",
      "sigma_value = 120.85882025878544\n",
      "K_value = 3.9439756589204187\n",
      "beta_result = 0.4742196339398267\n",
      "k_result = 0.001042736729597503\n",
      "--------------------------------\n",
      "mu_value = 1232.1355400491575\n",
      "sigma_value = 151.44445845574714\n",
      "K_value = 5.096715418407792\n",
      "beta_result = 0.729718782702187\n",
      "k_result = 0.0009097943056730965\n",
      "--------------------------------\n",
      "mu_value = 1121.2213413936151\n",
      "sigma_value = 248.5757912658131\n",
      "K_value = 1.2396791840529162\n",
      "beta_result = 0.3629568937682574\n",
      "k_result = 0.0009324654509960959\n",
      "--------------------------------\n",
      "mu_value = 1181.8668024228107\n",
      "sigma_value = 206.54316712816734\n",
      "K_value = 3.9123987199741825\n",
      "beta_result = 7.581423660739856\n",
      "k_result = 0.000894716626507532\n",
      "--------------------------------\n",
      "mu_value = 1647.3813509365236\n",
      "sigma_value = 480.76750285253263\n",
      "K_value = 1.5647140537872264\n",
      "beta_result = 1.5999048431484089\n",
      "k_result = 1e-06\n",
      "--------------------------------\n",
      "mu_value = 933.9129087181998\n",
      "sigma_value = 78.98820306368255\n",
      "K_value = 7.544786920336571\n",
      "beta_result = 0.6635690374680233\n",
      "k_result = 0.001140276141183701\n",
      "--------------------------------\n",
      "mu_value = 1001.3558776851584\n",
      "sigma_value = 270.1780798401195\n",
      "K_value = 3.5683417800403876\n",
      "beta_result = 0.15678767826850817\n",
      "k_result = 0.16775567562359756\n",
      "--------------------------------\n",
      "mu_value = 1315.5803891541298\n",
      "sigma_value = 290.21449197790116\n",
      "K_value = 1.1135543828470174\n",
      "beta_result = 4.449361927096266\n",
      "k_result = 0.10114453768599142\n",
      "--------------------------------\n",
      "mu_value = 1277.8875630920481\n",
      "sigma_value = 354.8047220827848\n",
      "K_value = 2.2341935675297013\n",
      "beta_result = 0.7195966289813629\n",
      "k_result = 0.0011132455845300991\n",
      "--------------------------------\n",
      "mu_value = 1004.1168358344281\n",
      "sigma_value = 210.71338278120163\n",
      "K_value = 1.593239754430253\n",
      "beta_result = 0.1\n",
      "k_result = 0.014389264408213373\n",
      "--------------------------------\n"
     ]
    }
   ],
   "source": [
    "for result in results_model_1:\n",
    "    print(f\"mu_value = {result[0]}\")\n",
    "    print(f\"sigma_value = {result[1]}\")\n",
    "    print(f\"K_value = {result[2]}\")\n",
    "    print(f\"beta_result = {result[3]}\")\n",
    "    print(f\"k_result = {result[4]}\")\n",
    "    print(\"--------------------------------\")"
   ]
  },
  {
   "cell_type": "markdown",
   "metadata": {},
   "source": [
    "---"
   ]
  },
  {
   "cell_type": "markdown",
   "metadata": {},
   "source": [
    "# Testing Model 1"
   ]
  },
  {
   "cell_type": "markdown",
   "metadata": {},
   "source": [
    "---"
   ]
  },
  {
   "cell_type": "code",
   "execution_count": 45,
   "metadata": {},
   "outputs": [],
   "source": [
    "def joint_log_likelihood_test(participant, i):\n",
    "    log_L = 0\n",
    "    beta = results_model_1[i][3]\n",
    "    k = results_model_1[i][4]\n",
    "    \n",
    "    # Initialize the log likelihood for the current participant\n",
    "    Log_L_p_delay = 0\n",
    "    log_L_rt = 0\n",
    "    \n",
    "    # Get the data matrix for the current participant\n",
    "    data_matrix = TEST_DATA[participant]\n",
    "    # Determine the sample size\n",
    "    sample_size = len(data_matrix)\n",
    "    # Extract relevant columns from the data matrix\n",
    "    \n",
    "    sv_immediates = data_matrix[LABEL_IMM_OUT]\n",
    "    delayed_outcomes = data_matrix[LABEL_DEL_OUT]\n",
    "    delays = data_matrix[LABEL_DELAY]\n",
    "    actions = data_matrix[LABEL_CHOICE]\n",
    "    reaction_times = data_matrix[LABEL_RT]\n",
    "    \n",
    "    # Clamp action values to be between 0 and 1\n",
    "    clamped_actions = action_values_clamp01(actions)\n",
    "    \n",
    "    # Loop through each sample in the data matrix\n",
    "    for j in range(sample_size):\n",
    "        reaction_time_likelihood = ex_gaussian_likelihood(reaction_times[j], results_model_1[i][2], results_model_1[i][0], results_model_1[i][1])\n",
    "        log_L_rt += reaction_time_likelihood\n",
    "        \n",
    "        # Calculate the subjective value of the delayed outcome\n",
    "        sv_delayed = delayed_outcomes[j] / (1.0 + k * max(delays[j], 1e-10))\n",
    "        \n",
    "        # Calculate the probability of choosing the delayed outcome\n",
    "        p_delayed = 1.0 / (1.0 + np.exp(-beta * (sv_delayed - sv_immediates[j])))\n",
    "        p_delayed = np.clip(p_delayed, 1e-10, 1.0 - 1e-10)\n",
    "        \n",
    "        # Update the log likelihood for the current participant\n",
    "        Log_L_p_delay += clamped_actions[j] * np.log(p_delayed) + (1.0 - clamped_actions[j]) * np.log(1.0 - p_delayed)\n",
    "    \n",
    "    # Update the overall log likelihood\n",
    "    log_L += Log_L_p_delay\n",
    "    log_L += log_L_rt\n",
    "    \n",
    "    return -log_L"
   ]
  },
  {
   "cell_type": "code",
   "execution_count": 46,
   "metadata": {},
   "outputs": [],
   "source": [
    "test_results_model_1 = []\n",
    "\n",
    "# Loop through each participant in the training data\n",
    "for i, participant in enumerate(TEST_DATA):\n",
    "    # Calculate the joint log likelihood with the trained values\n",
    "    result = joint_log_likelihood_test(participant, i)\n",
    "    \n",
    "    # Append the result to the results list\n",
    "    test_results_model_1.append(result)"
   ]
  },
  {
   "cell_type": "markdown",
   "metadata": {},
   "source": [
    "### AIC & BIC test"
   ]
  },
  {
   "cell_type": "code",
   "execution_count": 47,
   "metadata": {},
   "outputs": [
    {
     "name": "stderr",
     "output_type": "stream",
     "text": [
      "C:\\Users\\Nicla\\AppData\\Local\\Temp\\ipykernel_10376\\2571579530.py:30: RuntimeWarning: overflow encountered in exp\n",
      "  p_delayed = 1.0 / (1.0 + np.exp(-beta * (sv_delayed - sv_immediates[j])))\n"
     ]
    }
   ],
   "source": [
    "def compute_aic_bic_model(log_likelihood, num_params, num_trials):\n",
    "    AIC = 2 * num_params - 2 * log_likelihood\n",
    "    BIC = num_params * np.log(num_trials) - 2 * log_likelihood\n",
    "    \n",
    "    return AIC, BIC\n",
    "\n",
    "\n",
    "for i, participant in enumerate(TRAIN_DATA):\n",
    "    params = results_model_1[i]\n",
    "    \n",
    "    joint_log_likelihood_model_1 = joint_log_likelihood_train(params, TRAIN_DATA, participant, i)\n",
    "    num_trials = len(TRAIN_DATA[participant])\n",
    "    \n",
    "    aic, bic = compute_aic_bic_model(-joint_log_likelihood_model_1, 5, num_trials)"
   ]
  },
  {
   "cell_type": "markdown",
   "metadata": {},
   "source": [
    "### KS test"
   ]
  },
  {
   "cell_type": "code",
   "execution_count": 69,
   "metadata": {},
   "outputs": [
    {
     "name": "stdout",
     "output_type": "stream",
     "text": [
      "KS Stat: 0.07451905885718373, p-value: 0.8929466784292519\n",
      "KS Stat: 0.08611111111111111, p-value: 0.7730365118473057\n",
      "KS Stat: 0.08194444444444444, p-value: 0.8207449046134728\n",
      "KS Stat: 0.09127094972067039, p-value: 0.7030140036830654\n",
      "KS Stat: 0.06527777777777778, p-value: 0.959578082609268\n",
      "KS Stat: 0.0875, p-value: 0.7564271324903237\n",
      "KS Stat: 0.12361111111111112, p-value: 0.3376191096608747\n",
      "KS Stat: 0.06666666666666667, p-value: 0.9519923903178499\n",
      "KS Stat: 0.08888888888888889, p-value: 0.7431071005930615\n",
      "KS Stat: 0.09190751445086705, p-value: 0.7005691552679912\n",
      "KS Stat: 0.08055555555555556, p-value: 0.8358014567101134\n",
      "KS Stat: 0.08611111111111111, p-value: 0.7730365118473057\n",
      "KS Stat: 0.05914804469273743, p-value: 0.9819304193340207\n",
      "KS Stat: 0.1361111111111111, p-value: 0.23423801635726288\n",
      "KS Stat: 0.13171589310829818, p-value: 0.26668589628746564\n",
      "KS Stat: 0.0763888888888889, p-value: 0.8778136373506431\n",
      "KS Stat: 0.15337078651685393, p-value: 0.131384801696449\n",
      "KS Stat: 0.10277777777777777, p-value: 0.566396787769197\n",
      "KS Stat: 0.04722222222222222, p-value: 0.9991100990384496\n",
      "KS Stat: 0.07222222222222222, p-value: 0.9140406920247063\n",
      "KS Stat: 0.09166666666666666, p-value: 0.7053386462695957\n",
      "KS Stat: 0.13472222222222222, p-value: 0.24440489773404844\n",
      "KS Stat: 0.06477272727272727, p-value: 0.9624873949515245\n",
      "KS Stat: 0.13055555555555556, p-value: 0.2768671916523133\n",
      "KS Stat: 0.10555555555555556, p-value: 0.5325483179843254\n",
      "KS Stat: 0.07222222222222222, p-value: 0.9140406920247063\n",
      "KS Stat: 0.09166666666666666, p-value: 0.7053386462695957\n",
      "KS Stat: 0.07905982905982906, p-value: 0.8533969619094363\n",
      "KS Stat: 0.06680790960451978, p-value: 0.9481328098316152\n",
      "KS Stat: 0.10202513966480448, p-value: 0.5688909635417776\n",
      "KS Stat: 0.1, p-value: 0.6007738592047915\n",
      "KS Stat: 0.09305555555555556, p-value: 0.6879604528138933\n",
      "KS Stat: 0.12361111111111112, p-value: 0.3376191096608747\n",
      "KS Stat: 0.08889664804469274, p-value: 0.7324831247254685\n",
      "KS Stat: 0.08333333333333333, p-value: 0.8052146057453451\n",
      "KS Stat: 0.04722222222222222, p-value: 0.9991100990384496\n",
      "KS Stat: 0.06666666666666667, p-value: 0.9519923903178499\n",
      "KS Stat: 0.1125, p-value: 0.45183138260729605\n",
      "KS Stat: 0.10138888888888889, p-value: 0.5835158683358517\n",
      "KS Stat: 0.09722222222222222, p-value: 0.6356331802024541\n",
      "KS Stat: 0.09027777777777778, p-value: 0.7225335445345684\n",
      "KS Stat: 0.09166666666666666, p-value: 0.7053386462695957\n",
      "KS Stat: 0.10972222222222222, p-value: 0.4833879838153212\n",
      "KS Stat: 0.10277777777777777, p-value: 0.566396787769197\n",
      "KS Stat: 0.09444444444444444, p-value: 0.6705166868962139\n",
      "KS Stat: 0.06666666666666667, p-value: 0.9519923903178499\n",
      "KS Stat: 0.08333333333333333, p-value: 0.8052146057453451\n",
      "KS Stat: 0.08401103175164415, p-value: 0.7947600270318116\n",
      "KS Stat: 0.06527777777777778, p-value: 0.959578082609268\n",
      "KS Stat: 0.065, p-value: 0.9090525976420721\n",
      "KS Stat: 0.07222222222222222, p-value: 0.8367375194552603\n",
      "KS Stat: 0.10333333333333333, p-value: 0.42187762349029284\n",
      "KS Stat: 0.07035714285714285, p-value: 0.8537912908933444\n",
      "KS Stat: 0.06982142857142858, p-value: 0.859443056990234\n",
      "KS Stat: 0.07222222222222222, p-value: 0.8367375194552603\n",
      "KS Stat: 0.05857142857142857, p-value: 0.9573423096581919\n",
      "KS Stat: 0.13761713520749666, p-value: 0.18000835783576466\n",
      "KS Stat: 0.12066985645933015, p-value: 0.251949949628553\n",
      "KS Stat: 0.06626262626262626, p-value: 0.8998007246599787\n",
      "KS Stat: 0.1, p-value: 0.4629608345420869\n",
      "KS Stat: 0.055353535353535356, p-value: 0.9750395115038266\n",
      "KS Stat: 0.09222222222222222, p-value: 0.5658858254827598\n",
      "KS Stat: 0.07333333333333333, p-value: 0.8233387141745435\n",
      "KS Stat: 0.06222222222222222, p-value: 0.9345759589651066\n",
      "KS Stat: 0.09727272727272727, p-value: 0.5008666414600921\n",
      "KS Stat: 0.08444444444444445, p-value: 0.6745356336654342\n",
      "KS Stat: 0.08, p-value: 0.7362749813609608\n",
      "KS Stat: 0.11666666666666667, p-value: 0.28031108823752243\n",
      "KS Stat: 0.11444444444444445, p-value: 0.30125454057679707\n",
      "KS Stat: 0.13444444444444445, p-value: 0.1493971458704898\n",
      "KS Stat: 0.09222222222222222, p-value: 0.5658858254827598\n",
      "KS Stat: 0.07666666666666666, p-value: 0.780996743180181\n",
      "KS Stat: 0.12, p-value: 0.2508862464892226\n",
      "KS Stat: 0.09111111111111111, p-value: 0.581209140543447\n",
      "KS Stat: 0.07116591928251122, p-value: 0.8441592482019717\n",
      "KS Stat: 0.053497757847533634, p-value: 0.9810195941925776\n",
      "KS Stat: 0.07111111111111111, p-value: 0.8497400815034902\n",
      "KS Stat: 0.07612903225806451, p-value: 0.8060201215459262\n",
      "KS Stat: 0.07666666666666666, p-value: 0.780996743180181\n",
      "KS Stat: 0.1, p-value: 0.4629608345420869\n",
      "KS Stat: 0.10333333333333333, p-value: 0.42187762349029284\n",
      "KS Stat: 0.052222222222222225, p-value: 0.9864049981121781\n",
      "KS Stat: 0.12367713004484306, p-value: 0.21824536482257867\n",
      "KS Stat: 0.09555555555555556, p-value: 0.5207288365172795\n",
      "KS Stat: 0.0811111111111111, p-value: 0.7210130996130837\n",
      "KS Stat: 0.061928251121076236, p-value: 0.9344180366709924\n",
      "KS Stat: 0.08222222222222222, p-value: 0.7056302561718647\n",
      "KS Stat: 0.1322222222222222, p-value: 0.1624372098018374\n",
      "KS Stat: 0.08, p-value: 0.7362749813609608\n",
      "KS Stat: 0.09888888888888889, p-value: 0.4771018528775625\n",
      "KS Stat: 0.14, p-value: 0.12044787267609339\n",
      "KS Stat: 0.08333333333333333, p-value: 0.6901191613655104\n",
      "KS Stat: 0.056666666666666664, p-value: 0.9698550614713425\n",
      "KS Stat: 0.11660714285714285, p-value: 0.2773632143539093\n",
      "KS Stat: 0.09111111111111111, p-value: 0.581209140543447\n",
      "KS Stat: 0.13444444444444445, p-value: 0.1493971458704898\n",
      "KS Stat: 0.07666666666666666, p-value: 0.780996743180181\n",
      "KS Stat: 0.11142857142857143, p-value: 0.3273739841269958\n",
      "KS Stat: 0.10666666666666667, p-value: 0.38295936711804024\n"
     ]
    }
   ],
   "source": [
    "TEST_RTs = get_reaction_times(TEST_DATA)\n",
    "\n",
    "for i, participant in enumerate(TEST_DATA):\n",
    "    predicted_reaction_times = exponnorm.rvs(results_model_1[i][2], results_model_1[i][0], results_model_1[i][1], size=len(TEST_DATA[participant]))\n",
    "    \n",
    "    ks_stat, p_value = ks_2samp(predicted_reaction_times, TEST_RTs[i])\n",
    "    \n",
    "    print(f\"KS Stat: {ks_stat}, p-value: {p_value}\")\n",
    "    \n",
    "    # stats.probplot(predicted_reaction_times, dist=exponnorm, sparams=(results_model_1[i][2], results_model_1[i][0], results_model_1[i][1]), plot=plt)\n",
    "    # plt.title(\"Q-Q Plot: Observed RTs vs. Predicted RTs (Ex-Gaussian)\")\n",
    "    # plt.show()"
   ]
  },
  {
   "cell_type": "markdown",
   "metadata": {},
   "source": [
    "### Accuracy test"
   ]
  },
  {
   "cell_type": "markdown",
   "metadata": {},
   "source": [
    "To test overall accuracy, we will define a function that simulates always picking <i>the same option</i>."
   ]
  },
  {
   "cell_type": "code",
   "execution_count": null,
   "metadata": {},
   "outputs": [],
   "source": [
    "def fixed_choice_accuracy(participant, option):\n",
    "    correct_guesses = 0\n",
    "    \n",
    "    actions = TEST_DATA[participant][LABEL_CHOICE]\n",
    "    \n",
    "    clamped_actions = action_values_clamp01(actions)\n",
    "    \n",
    "    for i in range(len(clamped_actions)):\n",
    "        if clamped_actions[i] == option:\n",
    "            correct_guesses += 1\n",
    "    \n",
    "    return correct_guesses / len(clamped_actions) * 100"
   ]
  },
  {
   "cell_type": "markdown",
   "metadata": {},
   "source": [
    "We will compute these fixed-choice accuracies <b>once</b> and reuse them for each model."
   ]
  },
  {
   "cell_type": "code",
   "execution_count": 50,
   "metadata": {},
   "outputs": [
    {
     "name": "stdout",
     "output_type": "stream",
     "text": [
      "50.05907818891277\n"
     ]
    },
    {
     "data": {
      "image/png": "[encoded data removed]",
      "text/plain": [
       "<Figure size 640x480 with 1 Axes>"
      ]
     },
     "metadata": {},
     "output_type": "display_data"
    },
    {
     "data": {
      "image/png": "[encoded data removed]",
      "text/plain": [
       "<Figure size 640x480 with 1 Axes>"
      ]
     },
     "metadata": {},
     "output_type": "display_data"
    }
   ],
   "source": [
    "prediction_accuracies_model_1 = []\n",
    "\n",
    "ACCURACY_SCORES_FIXED_CHOICE_IMMEDIATE = []\n",
    "ACCURACY_SCORES_FIXED_CHOICE_DELAYED = []\n",
    "\n",
    "\n",
    "for i, participant in enumerate(TEST_DATA):\n",
    "    accuracy_score = predict_accuracies(results_model_1[i][4], results_model_1[i][3], participant)\n",
    "    prediction_accuracies_model_1.append(accuracy_score)\n",
    "\n",
    "    # These are the values that are only computed once.\n",
    "    # They don't change per model.\n",
    "    accuracy_score_always_immediate = fixed_choice_accuracy(participant, 0)\n",
    "    accuracy_score_always_delayed = 100 - accuracy_score_always_immediate\n",
    "    \n",
    "    ACCURACY_SCORES_FIXED_CHOICE_IMMEDIATE.append(accuracy_score_always_immediate)\n",
    "    ACCURACY_SCORES_FIXED_CHOICE_DELAYED.append(accuracy_score_always_delayed)\n",
    "\n",
    "#print(min(PREDICTION_ACCURACIES_k_beta) - min(prediction_accuracies_model_1))\n",
    "#print(np.mean(PREDICTION_ACCURACIES_k_beta) - np.mean(prediction_accuracies_model_1))\n",
    "#print(max(PREDICTION_ACCURACIES_k_beta) - max(prediction_accuracies_model_1))\n",
    "\n",
    "print(np.mean(prediction_accuracies_model_1))\n",
    "\n",
    "plt.hist(PREDICTION_ACCURACIES_k_beta, bins=10, color=\"lightgreen\", edgecolor=\"black\")\n",
    "plt.title(\"Accuracies for each participant (pure choice)\")\n",
    "plt.xlabel(\"Accuracy (%)\")\n",
    "plt.ylabel(\"Frequency\")\n",
    "plt.show()\n",
    "\n",
    "plt.hist(prediction_accuracies_model_1, bins=10, color=\"red\", edgecolor=\"black\")\n",
    "plt.title(\"Accuracies for each participant (ex-gauss-model)\")\n",
    "plt.xlabel(\"Accuracy (%)\")\n",
    "plt.ylabel(\"Frequency\")\n",
    "plt.show()"
   ]
  },
  {
   "cell_type": "markdown",
   "metadata": {},
   "source": [
    "---"
   ]
  },
  {
   "cell_type": "markdown",
   "metadata": {},
   "source": [
    "# Model 2: LBA Model "
   ]
  },
  {
   "cell_type": "markdown",
   "metadata": {},
   "source": [
    "---"
   ]
  },
  {
   "cell_type": "code",
   "execution_count": 51,
   "metadata": {},
   "outputs": [],
   "source": [
    "# LBA PDF\n",
    "def lba_pdf(rt, v, b, A, t0, choice):\n",
    "    rt_adj = rt - t0\n",
    "    \n",
    "    if rt_adj <= 0:\n",
    "        return 1e-8\n",
    "    \n",
    "    choice = int(choice)\n",
    "    v_win = v[choice]\n",
    "    v_lose = v[1 - choice]\n",
    "    \n",
    "    if v_win <= 0 or v_lose <= 0:\n",
    "        return 1e-8\n",
    "    \n",
    "    t = rt_adj\n",
    "    density = (v_win / t) * (1 - np.exp(-v_win * (b - A) / t)) * np.exp(-v_lose * (b - A) / t)\n",
    "    \n",
    "    return max(density, 1e-8) if np.isfinite(density) else 1e-8"
   ]
  },
  {
   "cell_type": "code",
   "execution_count": 52,
   "metadata": {},
   "outputs": [],
   "source": [
    "# LBA Log-Likelihood (no debug prints)\n",
    "def lba_log_likelihood(params, data_set, participant):\n",
    "    v_imm, v_del, b, A, t0 = params\n",
    "    v = [v_imm, v_del]\n",
    "    \n",
    "    log_lik = 0\n",
    "    \n",
    "    data_matrix = data_set[participant]\n",
    "    \n",
    "    actions = data_matrix[LABEL_CHOICE]\n",
    "    \n",
    "    clamped_actions = action_values_clamp01(actions)\n",
    "    \n",
    "    sample_size = len(data_matrix)\n",
    "    \n",
    "    for j in range(sample_size):\n",
    "        rt = data_matrix[\"RT\"][j] / 1000\n",
    "        choice = clamped_actions[j]\n",
    "        \n",
    "        density = lba_pdf(rt, v, b, A, t0, choice)\n",
    "        log_lik += np.log(density)\n",
    "    \n",
    "    return -log_lik"
   ]
  },
  {
   "cell_type": "code",
   "execution_count": 53,
   "metadata": {},
   "outputs": [],
   "source": [
    "def joint_log_likelihood_lba(params, data_set, participant):\n",
    "    log_L = 0\n",
    "    v1, v2, b, A, t0, k, beta = params\n",
    "    \n",
    "    # Initialize the log likelihood for the current participant\n",
    "    Log_L_p_delay = 0\n",
    "    \n",
    "    data_matrix = data_set[participant]\n",
    "    \n",
    "    sample_size = len(data_matrix)\n",
    "    \n",
    "    sv_immediates = data_matrix[\"immOutcome\"]\n",
    "    delayed_outcomes = data_matrix[\"delOutcome\"]\n",
    "    delays = data_matrix[\"delay\"]\n",
    "    actions = data_matrix[\"action (1=immediate, 2=delayed, 0=missing)\"]\n",
    "    \n",
    "    # Clamp action values to be between 0 and 1\n",
    "    clamped_actions = action_values_clamp01(actions)\n",
    "    \n",
    "    for j in range(sample_size):\n",
    "        # Calculate the subjective value of the delayed outcome\n",
    "        sv_delayed = delayed_outcomes[j] / (1.0 + k * max(delays[j], 1e-10))\n",
    "        \n",
    "        # Calculate the probability of choosing the delayed outcome\n",
    "        p_delayed = 1.0 / (1.0 + np.exp(-beta * (sv_delayed - sv_immediates[j])))\n",
    "        p_delayed = np.clip(p_delayed, 1e-10, 1.0 - 1e-10)\n",
    "        \n",
    "        # Update the log likelihood for the current participant\n",
    "        Log_L_p_delay += clamped_actions[j] * np.log(p_delayed) + (1.0 - clamped_actions[j]) * np.log(1.0 - p_delayed)\n",
    "    \n",
    "    log_L_lba = lba_log_likelihood([v1, v2, b, A, t0], data_set, participant)\n",
    "    \n",
    "    # Update the overall log likelihood\n",
    "    log_L += Log_L_p_delay\n",
    "    log_L += log_L_lba\n",
    "    \n",
    "    return -log_L\n",
    "    "
   ]
  },
  {
   "cell_type": "code",
   "execution_count": 66,
   "metadata": {},
   "outputs": [],
   "source": [
    "BOUNDS_MODEL_2 = [\n",
    "    (0.1, 1),  # v1 [0]\n",
    "    (0.1, 1),  # v2 [1]\n",
    "    (0.1, 5),  # A [2]\n",
    "    (0.1, 5),  # b [3]\n",
    "    (0, 0.5),  # t0 [4]\n",
    "    (1e-6, 1),  # k [5]\n",
    "    (0.1, 10)   # beta [6]\n",
    "]\n",
    "\n",
    "INITIAL_PARAMS_MODEL_2 = [ 0.5, 0.5, 5, 1.5, 0.3, INITIAL_k, INITIAL_beta ]"
   ]
  },
  {
   "cell_type": "code",
   "execution_count": 67,
   "metadata": {},
   "outputs": [
    {
     "name": "stderr",
     "output_type": "stream",
     "text": [
      "C:\\Users\\Nicla\\AppData\\Local\\Temp\\ipykernel_10376\\3801037551.py:25: RuntimeWarning: overflow encountered in exp\n",
      "  p_delayed = 1.0 / (1.0 + np.exp(-beta * (sv_delayed - sv_immediates[j])))\n",
      "C:\\Users\\Nicla\\AppData\\Local\\Temp\\ipykernel_10376\\3632927686.py:16: RuntimeWarning: overflow encountered in scalar multiply\n",
      "  density = (v_win / t) * (1 - np.exp(-v_win * (b - A) / t)) * np.exp(-v_lose * (b - A) / t)\n",
      "C:\\Users\\Nicla\\AppData\\Local\\Temp\\ipykernel_10376\\3632927686.py:16: RuntimeWarning: overflow encountered in exp\n",
      "  density = (v_win / t) * (1 - np.exp(-v_win * (b - A) / t)) * np.exp(-v_lose * (b - A) / t)\n"
     ]
    }
   ],
   "source": [
    "results_model_2 = []\n",
    "\n",
    "from scipy.optimize import differential_evolution\n",
    "\n",
    "for i, participant in enumerate(TRAIN_DATA):\n",
    "    #result = minimize(joint_log_likelihood_lba, initial_params, args=(TRAIN_DATA, participant))\n",
    "    result = differential_evolution(joint_log_likelihood_lba, BOUNDS_MODEL_2, args=(TRAIN_DATA, participant))\n",
    "    results_model_2.append(result.x)"
   ]
  },
  {
   "cell_type": "code",
   "execution_count": 57,
   "metadata": {},
   "outputs": [
    {
     "name": "stdout",
     "output_type": "stream",
     "text": [
      "[0.75176224 0.59014803 2.90048994 3.68268369 0.10238811 0.01479087\n",
      " 0.27885198]\n",
      "[ 0.22275759  0.49853155  3.05199205  4.68570105  0.09193887  0.01032269\n",
      " 10.        ]\n",
      "[8.03832852e-01 3.76026222e-01 2.76953558e+00 4.84670401e+00\n",
      " 1.54531303e-01 1.31329910e-03 4.86497126e+00]\n",
      "[0.23096661 0.52893823 0.24147113 3.89228894 0.45289189 0.00979261\n",
      " 6.8042261 ]\n",
      "[0.47904922 0.51214731 2.91388581 4.78070834 0.00584942 0.0085721\n",
      " 1.61669171]\n",
      "[0.35279047 0.35341384 1.81788679 2.09236397 0.38847183 0.52543413\n",
      " 6.88560315]\n",
      "[0.48278071 0.36908206 0.62617121 0.81457957 0.06918013 0.00948043\n",
      " 9.31577545]\n",
      "[5.04256604e-01 7.88112445e-01 3.39755280e+00 3.86758994e+00\n",
      " 3.89810243e-01 8.30880373e-05 5.34363301e+00]\n",
      "[2.04109774e-01 6.00322161e-01 3.46990796e-01 2.53405879e+00\n",
      " 2.47525315e-01 1.06059422e-03 1.16197338e+00]\n",
      "[0.49287909 0.60723942 1.19732442 2.19308129 0.49030139 0.23007977\n",
      " 0.1       ]\n",
      "[6.57574815e-01 8.15108832e-01 3.03873641e+00 4.47852032e+00\n",
      " 3.15695400e-01 9.29255985e-03 9.41090331e+00]\n",
      "[5.02338196e-01 9.89805386e-01 2.21258046e+00 2.39767703e+00\n",
      " 3.93847423e-01 1.46131599e-03 3.49692715e-01]\n",
      "[0.28735548 0.63381636 2.56367751 3.7360883  0.36058292 0.08981656\n",
      " 0.93417431]\n",
      "[5.28840897e-01 3.92290333e-01 2.20969523e+00 3.84737534e+00\n",
      " 8.34126107e-02 2.26473859e-03 1.02211204e+00]\n",
      "[8.77136664e-01 6.70533293e-01 1.41878497e+00 3.88475238e+00\n",
      " 2.66479933e-01 1.75271428e-04 1.56401876e+00]\n",
      "[6.79875040e-01 4.19205522e-01 1.45747751e+00 3.06451848e+00\n",
      " 4.51085831e-01 9.57117737e-04 5.62572230e+00]\n",
      "[0.52021665 0.26878594 1.19792003 4.70306311 0.29428154 0.01020913\n",
      " 1.27304353]\n",
      "[4.01758468e-01 6.95175595e-01 8.03528222e-01 2.34267907e+00\n",
      " 5.49244706e-02 1.08474575e-03 1.22240268e+00]\n",
      "[2.52266894e-01 8.78862580e-01 2.07956598e+00 2.53862046e+00\n",
      " 4.13224023e-01 3.89314120e-04 7.35536438e-01]\n",
      "[2.37908628e-01 9.89519215e-02 1.53471000e+00 2.37090676e+00\n",
      " 1.96297551e-02 7.19508374e-04 1.89121886e+00]\n",
      "[5.74379190e-01 4.43156128e-01 2.48905627e+00 4.75357240e+00\n",
      " 1.65713367e-01 5.13964226e-04 1.99252807e+00]\n",
      "[8.74136147e-01 1.54294787e-01 1.12116042e+00 1.46246030e+00\n",
      " 9.28039423e-02 7.16036763e-04 1.17566346e+00]\n",
      "[0.31830093 0.28995661 0.85955614 3.3951552  0.02214302 0.25411041\n",
      " 0.14994695]\n",
      "[0.14902385 0.31858843 1.0051622  2.2540338  0.08738351 0.00914295\n",
      " 1.40008247]\n",
      "[8.96677040e-01 1.11223050e-01 3.79473814e+00 4.33907002e+00\n",
      " 1.02188635e-01 1.55218685e-03 7.47336210e-01]\n",
      "[0.94471283 0.70747628 1.8247132  2.00835776 0.13178793 0.01399932\n",
      " 4.58439078]\n",
      "[0.31331521 0.11258023 1.02320144 3.20515696 0.05380676 0.23377483\n",
      " 0.37507583]\n",
      "[2.71044530e-01 4.77749312e-01 2.21737420e+00 4.22775513e+00\n",
      " 4.84338483e-01 1.00000000e-06 1.00000000e+01]\n",
      "[0.40593473 0.17452077 2.17336722 3.06963672 0.20510024 0.00988628\n",
      " 4.01002675]\n",
      "[3.85527941e-01 3.82477019e-01 1.22930140e+00 3.97469463e+00\n",
      " 2.10529378e-01 5.56404117e-04 8.02266579e-01]\n",
      "[9.97080544e-01 2.70462579e-04 4.43358616e-01 5.16496441e-01\n",
      " 1.09869406e-01 1.02101279e-02 4.01653275e-01]\n",
      "[0.44996429 0.62471576 3.09115943 4.18195567 0.23534231 0.01195949\n",
      " 0.41477999]\n",
      "[0.52632134 0.98189293 0.43330249 2.36175695 0.21685551 0.00973764\n",
      " 9.49756159]\n",
      "[0.44293035 0.74444714 1.33006133 4.17111432 0.36955462 0.0109558\n",
      " 2.63002037]\n",
      "[2.99787920e-01 7.21548581e-01 2.80393713e+00 3.75262864e+00\n",
      " 1.77520291e-01 6.86838591e-04 9.02661216e-01]\n",
      "[2.00160358e-02 3.83791146e-01 3.67392588e-01 4.97092789e+00\n",
      " 1.93285922e-01 3.03175982e-04 2.88478406e+00]\n",
      "[1.96776185e-03 2.15942111e-01 8.82025041e-01 4.39453869e+00\n",
      " 1.86534867e-02 5.80201360e-02 1.28069056e+00]\n",
      "[0.80570705 0.6938977  0.93202232 4.83980861 0.23993568 0.22355324\n",
      " 0.15535416]\n",
      "[0.86962436 0.88482546 1.52274807 4.64892586 0.3533345  0.01009657\n",
      " 1.10006559]\n",
      "[5.39667586e-01 8.24361683e-01 1.03494165e+00 3.19246718e+00\n",
      " 1.18007824e-01 2.85688174e-03 3.90598787e-01]\n",
      "[0.70754412 0.75024791 0.19201825 3.21993162 0.12670743 0.11625344\n",
      " 0.12381351]\n",
      "[7.29868579e-01 4.69475510e-01 2.20940081e+00 4.33766531e+00\n",
      " 3.84388791e-01 1.50296216e-03 4.94677682e-01]\n",
      "[0.60030406 0.30669626 0.8530239  4.26071843 0.40877205 0.02133974\n",
      " 0.24112543]\n",
      "[0.21987824 0.74270141 0.47261027 3.27276649 0.39103509 0.05113679\n",
      " 0.33339558]\n",
      "[0.10375584 0.34578059 0.49884625 3.64127185 0.26661352 0.01507795\n",
      " 0.22015187]\n",
      "[8.88713120e-01 7.05557552e-01 4.03374178e-04 8.89663830e-01\n",
      " 4.78758935e-01 9.48457296e-03 9.54132901e+00]\n",
      "[0.35758886 0.6946327  3.19108699 3.9732672  0.23002867 0.00851273\n",
      " 4.10239729]\n",
      "[1.56635760e-01 9.66804195e-01 4.25892264e-01 3.83435144e+00\n",
      " 2.54044274e-01 7.50120629e-04 1.04126551e+00]\n",
      "[0.8815919  0.3508856  0.64265028 4.31299837 0.33694547 0.00884164\n",
      " 0.72210934]\n",
      "[0.32528142 0.70439537 3.8614648  4.02661752 0.43193026 0.009937\n",
      " 2.07998441]\n",
      "[3.90383970e-01 3.02934482e-01 2.60587126e+00 4.35760814e+00\n",
      " 1.23168943e-01 1.00000000e-06 1.00000000e-01]\n",
      "[2.70937962e-01 2.75957043e-01 4.34712763e-01 3.54428334e+00\n",
      " 2.41690399e-01 1.33377093e-03 3.26556184e-01]\n",
      "[0.54294838 0.51506659 0.5970488  3.70356961 0.0513165  0.00973495\n",
      " 9.37727513]\n",
      "[0.91920628 0.26950236 0.49791533 2.21005016 0.37798891 0.00324547\n",
      " 0.1       ]\n",
      "[5.67428477e-01 7.21955213e-01 1.62589048e+00 4.36216705e+00\n",
      " 3.15453288e-01 1.00000000e-06 4.46469129e+00]\n",
      "[0.06535655 0.50194431 0.65840634 3.52993432 0.08601244 0.01005753\n",
      " 1.11255294]\n",
      "[0.45580889 0.60419156 2.40424316 2.98631276 0.1679532  0.00938589\n",
      " 0.34530913]\n",
      "[0.50899423 0.29499435 2.00933952 3.81473608 0.49307231 0.00886651\n",
      " 0.83293793]\n",
      "[0.52205905 0.57633252 1.81994635 2.68419825 0.31007515 0.73830298\n",
      " 0.20879803]\n",
      "[0.714916   0.14679352 0.16387899 3.71465453 0.24822524 0.01170084\n",
      " 0.36396237]\n",
      "[0.68389751 0.83267566 1.43532225 3.69782309 0.28704462 0.00834216\n",
      " 0.48298804]\n",
      "[9.80211766e-01 8.76653720e-01 3.81117020e+00 4.74241228e+00\n",
      " 2.03898426e-01 3.87084061e-03 3.57088547e-01]\n",
      "[0.43979084 0.27367977 2.8944856  4.11738601 0.32528122 0.00957544\n",
      " 7.51672215]\n",
      "[0.98093305 0.83147415 1.92230586 3.72129047 0.22180014 0.01699416\n",
      " 0.26578944]\n",
      "[9.41119433e-01 8.23218649e-01 2.13600224e+00 4.52853236e+00\n",
      " 3.21453325e-01 1.07032588e-03 1.05957040e+00]\n",
      "[8.30451510e-01 2.49577191e-01 8.22283491e-01 4.22940089e+00\n",
      " 4.57209415e-01 1.90174429e-03 3.64333059e-01]\n",
      "[9.16027098e-01 7.35100566e-01 1.09016806e+00 4.19065435e+00\n",
      " 8.46169128e-02 1.14882514e-03 4.31942200e-01]\n",
      "[0.73347023 0.46541101 1.23772543 4.29843806 0.07314364 0.00462481\n",
      " 0.10436638]\n",
      "[0.34262224 0.99423549 1.11225557 1.89913506 0.13077094 0.00915331\n",
      " 1.34163607]\n",
      "[2.80466119e-01 1.04950037e-01 6.33714910e-01 1.69974196e+00\n",
      " 3.47911255e-01 1.21587283e-03 2.50179433e-01]\n",
      "[0.59778181 0.94641456 1.47122057 4.68206021 0.1458033  0.02819042\n",
      " 9.74396359]\n",
      "[0.87154155 0.52207713 1.43966295 3.33681302 0.36643464 0.00901237\n",
      " 1.52731895]\n",
      "[0.23401162 0.765059   0.29417804 0.94650412 0.03275998 0.29252159\n",
      " 0.14581617]\n",
      "[0.38845518 0.33763884 0.82558329 1.77743065 0.23458983 0.0116419\n",
      " 0.14087801]\n",
      "[0.18335146 0.24916526 0.0352407  0.51845276 0.2236814  0.00990257\n",
      " 3.53578718]\n",
      "[5.30931508e-01 6.12353306e-01 7.21787925e-01 3.45175971e+00\n",
      " 3.77705107e-01 2.64822490e-03 1.00024062e-01]\n",
      "[0.62926913 0.47945671 1.34504404 3.00322402 0.09973603 0.99206703\n",
      " 0.10755768]\n",
      "[3.36339989e-01 8.13346596e-01 1.71991242e+00 3.85626593e+00\n",
      " 4.35716522e-01 1.09911565e-03 5.42550179e-01]\n",
      "[5.30402407e-01 1.13818072e-01 2.91451843e+00 4.89712423e+00\n",
      " 3.86803633e-01 8.66953326e-04 8.31233144e-01]\n",
      "[0.45912734 0.03922363 1.01761843 2.19944413 0.36793118 0.06130546\n",
      " 0.14135152]\n",
      "[7.70670473e-01 3.89760208e-01 9.20559238e-01 3.14255417e+00\n",
      " 4.65761227e-01 1.15567419e-03 4.04956501e-01]\n",
      "[7.39348527e-01 4.69666423e-02 1.98248751e+00 2.16900298e+00\n",
      " 9.97106076e-02 6.81652559e-04 2.73761092e-01]\n",
      "[2.03963069e-01 7.35559510e-01 2.61287721e+00 3.57706095e+00\n",
      " 4.19429351e-01 2.74224714e-03 1.00000000e-01]\n",
      "[0.87464878 0.28677611 0.41895985 1.86797227 0.18252611 0.00991466\n",
      " 0.21618963]\n",
      "[0.26910753 0.94681005 0.45779553 4.09225382 0.05928664 0.20510222\n",
      " 6.44497579]\n",
      "[5.05380071e-01 5.03472010e-01 1.67645324e+00 4.86649010e+00\n",
      " 3.68153454e-01 1.09167652e-03 5.76640090e-01]\n",
      "[0.38117562 0.86170262 1.96803572 3.22621674 0.29488959 0.02333082\n",
      " 0.13454584]\n",
      "[5.32500127e-01 8.63878897e-02 2.63716935e+00 3.68694959e+00\n",
      " 8.43358526e-02 9.64265344e-04 9.84448691e+00]\n",
      "[0.54816551 0.10695113 0.85388942 3.88862739 0.47741899 0.00996151\n",
      " 8.85858209]\n",
      "[6.97241570e-01 8.04157303e-01 1.38616297e+00 1.99446498e+00\n",
      " 3.83721987e-01 1.04389996e-03 4.66510711e-01]\n",
      "[3.16295944e-01 2.95472237e-01 6.38548926e-01 4.23976343e+00\n",
      " 3.00614074e-01 9.09765252e-04 7.29366384e-01]\n",
      "[0.45947232 0.65572596 0.28912438 0.91542667 0.13105791 0.00093211\n",
      " 0.35586357]\n",
      "[3.30755059e-01 1.87123437e-01 1.63439791e+00 4.68727959e+00\n",
      " 2.02522237e-01 9.18495793e-04 1.00000000e+01]\n",
      "[6.64485036e-02 6.56637089e-01 1.32397579e+00 3.93455907e+00\n",
      " 1.88619782e-01 1.00000000e-06 1.59513005e+00]\n",
      "[4.64596089e-01 9.85035752e-01 1.19357517e-01 4.15480515e+00\n",
      " 1.11554209e-02 1.14027441e-03 6.63571316e-01]\n",
      "[0.92209027 0.96532382 4.20222038 4.56588084 0.41555492 0.1677782\n",
      " 0.15678615]\n",
      "[0.91584134 0.81071689 2.34768351 4.29733709 0.22709843 0.00980836\n",
      " 0.24254527]\n",
      "[8.51957563e-01 7.74796778e-01 4.07432730e+00 4.68346195e+00\n",
      " 4.96321785e-01 1.11698056e-03 7.00057531e-01]\n",
      "[0.24455424 0.32529903 1.72189419 3.46866608 0.19142054 0.01438924\n",
      " 0.1       ]\n"
     ]
    }
   ],
   "source": [
    "for result in results_model_2:\n",
    "    print(result)"
   ]
  },
  {
   "cell_type": "markdown",
   "metadata": {},
   "source": [
    "### AIC & BIC test"
   ]
  },
  {
   "cell_type": "code",
   "execution_count": null,
   "metadata": {},
   "outputs": [],
   "source": []
  },
  {
   "cell_type": "markdown",
   "metadata": {},
   "source": [
    "### Accuracy test"
   ]
  },
  {
   "cell_type": "code",
   "execution_count": null,
   "metadata": {},
   "outputs": [
    {
     "name": "stderr",
     "output_type": "stream",
     "text": [
      "C:\\Users\\Nicla\\AppData\\Local\\Temp\\ipykernel_10376\\2062185492.py:18: RuntimeWarning: overflow encountered in exp\n",
      "  p_delayed = 1.0 / (1.0 + np.exp(-beta * (sv_delayed - sv_immediates[i])))\n"
     ]
    },
    {
     "name": "stdout",
     "output_type": "stream",
     "text": [
      "7.777777777777778\n",
      "50.294848950841974\n",
      "96.66666666666667\n"
     ]
    },
    {
     "data": {
      "image/png": "[encoded data removed]",
      "text/plain": [
       "<Figure size 640x480 with 1 Axes>"
      ]
     },
     "metadata": {},
     "output_type": "display_data"
    },
    {
     "data": {
      "image/png": "[encoded data removed]",
      "text/plain": [
       "<Figure size 640x480 with 1 Axes>"
      ]
     },
     "metadata": {},
     "output_type": "display_data"
    }
   ],
   "source": [
    "prediction_accuracies_model_2 = []\n",
    "\n",
    "for i, participant in enumerate(TEST_DATA):\n",
    "    accuracy_score = predict_accuracies(results_model_2[i][5], results_model_2[i][6], participant)\n",
    "    prediction_accuracies_model_2.append(accuracy_score)\n",
    "\n",
    "print(min(prediction_accuracies_model_2))\n",
    "print(np.mean(prediction_accuracies_model_2))\n",
    "print(max(prediction_accuracies_model_2))\n",
    "\n",
    "plt.hist(PREDICTION_ACCURACIES_k_beta, bins=10, range=(0, 100), color=\"lightgreen\", edgecolor=\"black\")\n",
    "plt.title(\"Accuracies for each participant (pure choice)\")\n",
    "plt.xlabel(\"Accuracy (%)\")\n",
    "plt.ylabel(\"Frequency\")\n",
    "plt.show()\n",
    "\n",
    "plt.hist(prediction_accuracies_model_2, bins=10, range=(0, 100), color=\"red\", edgecolor=\"black\")\n",
    "plt.title(\"Accuracies for each participant (ex-gauss-model)\")\n",
    "plt.xlabel(\"Accuracy (%)\")\n",
    "plt.ylabel(\"Frequency\")\n",
    "plt.show()"
   ]
  },
  {
   "cell_type": "markdown",
   "metadata": {},
   "source": [
    "---"
   ]
  },
  {
   "cell_type": "markdown",
   "metadata": {},
   "source": [
    "# Testing Model 2"
   ]
  },
  {
   "cell_type": "markdown",
   "metadata": {},
   "source": [
    "---"
   ]
  },
  {
   "cell_type": "code",
   "execution_count": 59,
   "metadata": {},
   "outputs": [],
   "source": [
    "#for i, participant in enumerate(TEST_DATA):\n",
    "#    starting_points = np.random.uniform(0, results_model_2[i][2], 1000)\n",
    "#    \n",
    "#    decision_times = (results_model_2[i][3] - starting_points) / min(results_model_2[i][0], results_model_2[i][1])\n",
    "#    \n",
    "#    predicted_reaction_times_lba = decision_times + results_model_2[i][4]\n",
    "#    \n",
    "#    #print(predicted_reaction_times_lba)\n",
    "#    \n",
    "#    #print(\"\\n\\n\\n\")\n",
    "#    \n",
    "#    reaction_times = TEST_DATA[participant][\"RT\"]\n",
    "#    \n",
    "#    ks_stat, p_value = ks_2samp(predicted_reaction_times_lba, reaction_times)\n",
    "#    \n",
    "#    print(f\"KS Stat: {ks_stat}, p-value: {p_value}\")"
   ]
  },
  {
   "cell_type": "markdown",
   "metadata": {},
   "source": [
    "---"
   ]
  },
  {
   "cell_type": "markdown",
   "metadata": {},
   "source": [
    "# Model 3: Name?"
   ]
  },
  {
   "cell_type": "markdown",
   "metadata": {},
   "source": [
    "---"
   ]
  },
  {
   "cell_type": "markdown",
   "metadata": {},
   "source": [
    "We first define the joint log likelihood function for our model. We will be using one of the formulas presented in the lectures:\n",
    "\n",
    "$$ log_L = \\sum_{i = 0}^N \\log_{L,i,p_{delay}} + \\log_{L,i,modelname} $$\n",
    "\n",
    "where\n",
    "\n",
    "$$ \\log_{L,i,modelname} = \\sum_{j = 0}^N -\\log(RT_j) - \\frac{1}{2}\\log(2\\pi\\sigma) - \\frac{(\\log(RT_j) - \\mu)^2}{2\\sigma^2}"
   ]
  },
  {
   "cell_type": "code",
   "execution_count": null,
   "metadata": {},
   "outputs": [],
   "source": [
    "def joint_log_likelihood_model_3(params, data_set, participant):\n",
    "    log_L = 0\n",
    "    k, beta, mu, sigma = params\n",
    "    \n",
    "    # Initialize the log likelihood for the current participant\n",
    "    Log_L_p_delay = 0\n",
    "    \n",
    "    # Get the data matrix for the current participant\n",
    "    data_matrix = data_set[participant]\n",
    "    # Determine the sample size\n",
    "    sample_size = len(data_matrix)\n",
    "    # Extract relevant columns from the data matrix\n",
    "    \n",
    "    sv_immediates = data_matrix[LABEL_IMM_OUT]\n",
    "    delayed_outcomes = data_matrix[LABEL_DEL_OUT]\n",
    "    delays = data_matrix[LABEL_DELAY]\n",
    "    actions = data_matrix[LABEL_CHOICE]\n",
    "    reaction_times = data_matrix[LABEL_RT]\n",
    "    \n",
    "    # Clamp action values to be between 0 and 1\n",
    "    clamped_actions = action_values_clamp01(actions)\n",
    "    \n",
    "    log_L_model_3 = 0\n",
    "    \n",
    "    # Loop through each sample in the data matrix\n",
    "    for j in range(sample_size):\n",
    "        log_L_model_3 += - np.log(reaction_times[j]) - 0.5 * np.log(2 * np.pi * sigma) - ((np.log(reaction_times[j]) - mu)**2) / (2 * (sigma**2))\n",
    "        \n",
    "        # Calculate the subjective value of the delayed outcome\n",
    "        sv_delayed = delayed_outcomes[j] / (1.0 + k * max(delays[j], 1e-10))\n",
    "        \n",
    "        # Calculate the probability of choosing the delayed outcome\n",
    "        p_delayed = 1.0 / (1.0 + np.exp(-beta * (sv_delayed - sv_immediates[j])))\n",
    "        p_delayed = np.clip(p_delayed, 1e-10, 1.0 - 1e-10)\n",
    "        \n",
    "        # Update the log likelihood for the current participant\n",
    "        Log_L_p_delay += clamped_actions[j] * np.log(p_delayed) + (1.0 - clamped_actions[j]) * np.log(1.0 - p_delayed)\n",
    "    \n",
    "    # Update the overall log likelihood\n",
    "    log_L += Log_L_p_delay\n",
    "    log_L += log_L_model_3\n",
    "    \n",
    "    #print(log_L_model_3, Log_L_p_delay)\n",
    "    \n",
    "    return -log_L"
   ]
  },
  {
   "cell_type": "code",
   "execution_count": null,
   "metadata": {},
   "outputs": [
    {
     "name": "stderr",
     "output_type": "stream",
     "text": [
      "C:\\Users\\Nicla\\AppData\\Local\\Temp\\ipykernel_10376\\1212992281.py:33: RuntimeWarning: overflow encountered in exp\n",
      "  p_delayed = 1.0 / (1.0 + np.exp(-beta * (sv_delayed - sv_immediates[j])))\n"
     ]
    }
   ],
   "source": [
    "results_model_3 = []\n",
    "\n",
    "log_mean = 0\n",
    "\n",
    "for i, participant in enumerate(TRAIN_DATA):\n",
    "    initial_params = [INITIAL_k, INITIAL_beta, 7, 0.5] # 0.01, beta, 7, 0.5\n",
    "    \n",
    "    bounds = [\n",
    "        (1e-6, 1), # bounds for k\n",
    "        (0.1, 10), # bounds for beta\n",
    "        (1, None), # bounds for mu\n",
    "        (1e-6, None) # bounds for sigma\n",
    "    ]\n",
    "    \n",
    "    result = minimize(joint_log_likelihood_model_3, initial_params, args=(TRAIN_DATA, participant), bounds=bounds, method=\"L-BFGS-B\")\n",
    "    results_model_3.append(result.x)"
   ]
  },
  {
   "cell_type": "markdown",
   "metadata": {},
   "source": [
    "### KS test and MSE test"
   ]
  },
  {
   "cell_type": "code",
   "execution_count": null,
   "metadata": {},
   "outputs": [
    {
     "data": {
      "image/png": "[encoded data removed]",
      "text/plain": [
       "<Figure size 640x480 with 1 Axes>"
      ]
     },
     "metadata": {},
     "output_type": "display_data"
    }
   ],
   "source": [
    "mse_values_test_model_3 = []\n",
    "\n",
    "for i, participant in enumerate(TEST_DATA):\n",
    "    mu = results_model_3[i][2]\n",
    "    sigma = results_model_3[i][3]\n",
    "    \n",
    "    sample_size = len(TEST_RTs[i])\n",
    "    \n",
    "    predicted_reaction_time = np.random.lognormal(mean=mu, sigma=sigma, size=sample_size)\n",
    "    \n",
    "    ks_stat, p_value = ks_2samp(predicted_reaction_time, TEST_RTs[i])\n",
    "    \n",
    "    #stats.probplot(reaction_times_test_model_3[i], dist=\"lognorm\", sparams=(sigma, 0, np.exp(mu)), plot=plt)\n",
    "    #plt.title(\"Q-Q Plot: Observed RTs vs. Predicted RTs (Model 5)\")\n",
    "    #plt.show()\n",
    "\n",
    "    mse = 0\n",
    "    \n",
    "    for j in range(sample_size):\n",
    "        error_seconds = ((TEST_DATA[participant][\"RT\"][j] - predicted_reaction_time[j])/1000)**2\n",
    "        \n",
    "        mse += error_seconds\n",
    "        \n",
    "    mse /= sample_size\n",
    "    \n",
    "    mse_values_test_model_3.append(mse)\n",
    "    \n",
    "    #print(f\"KS Stat: {ks_stat}, p-value: {p_value}\")\n",
    "    #print(f\"MSE ({i}): {mse}\")\n",
    "\n",
    "plt.hist(mse_values_test_model_3, bins=10, color=\"lightgreen\", edgecolor=\"black\")\n",
    "plt.show()"
   ]
  },
  {
   "cell_type": "markdown",
   "metadata": {},
   "source": [
    "### Accuracy test"
   ]
  },
  {
   "cell_type": "markdown",
   "metadata": {},
   "source": [
    "We can now test the accuracy of our model by calculating predictions and comparing accuracies with the ones we would get if we were to always choose a fixed option."
   ]
  },
  {
   "cell_type": "code",
   "execution_count": null,
   "metadata": {},
   "outputs": [
    {
     "name": "stdout",
     "output_type": "stream",
     "text": [
      "Our model precision: 50.58%\n",
      "Always choosing \"immediate\": 40.06%\n",
      "Always choosing \"delayed\": 59.94%\n"
     ]
    },
    {
     "data": {
      "image/png": "[encoded data removed]",
      "text/plain": [
       "<Figure size 640x480 with 1 Axes>"
      ]
     },
     "metadata": {},
     "output_type": "display_data"
    },
    {
     "data": {
      "image/png": "[encoded data removed]",
      "text/plain": [
       "<Figure size 640x480 with 1 Axes>"
      ]
     },
     "metadata": {},
     "output_type": "display_data"
    }
   ],
   "source": [
    "prediction_accuracies_model_3 = []\n",
    "\n",
    "for i, participant in enumerate(TEST_DATA):\n",
    "    accuracy_score = predict_accuracies(results_model_3[i][0], results_model_3[i][1], participant)\n",
    "    \n",
    "    accuracy_score_always_immediate = fixed_choice_accuracy(participant, 0)\n",
    "    accuracy_score_always_delayed = 100 - accuracy_score_always_immediate\n",
    "    \n",
    "    prediction_accuracies_model_3.append(accuracy_score)\n",
    "\n",
    "print(f\"Our model precision: {np.mean(prediction_accuracies_model_3):.2f}%\")\n",
    "print(f\"Always choosing \\\"immediate\\\": {np.mean(ACCURACY_SCORES_FIXED_CHOICE_IMMEDIATE):.2f}%\")\n",
    "print(f\"Always choosing \\\"delayed\\\": {np.mean(ACCURACY_SCORES_FIXED_CHOICE_DELAYED):.2f}%\")\n",
    "\n",
    "plt.hist(prediction_accuracies_model_3, bins=10, range=(0, 100), color=\"lightgreen\", edgecolor=\"black\")\n",
    "plt.title(\"Total accuracy distribution (Model 3)\")\n",
    "plt.xlabel(\"Accuracy (%)\")\n",
    "plt.ylabel(\"Frequency\")\n",
    "plt.show()\n",
    "\n",
    "plt.hist(PREDICTION_ACCURACIES_k_beta, bins=10, range=(0, 100), color=\"red\", edgecolor=\"black\")\n",
    "plt.title(\"Total accuracy distribution (pure choice)\")\n",
    "plt.xlabel(\"Accuracy (%)\")\n",
    "plt.ylabel(\"Frequency\")\n",
    "plt.show()"
   ]
  }
 ],
 "metadata": {
  "kernelspec": {
   "display_name": ".venv",
   "language": "python",
   "name": "python3"
  },
  "language_info": {
   "codemirror_mode": {
    "name": "ipython",
    "version": 3
   },
   "file_extension": ".py",
   "mimetype": "text/x-python",
   "name": "python",
   "nbconvert_exporter": "python",
   "pygments_lexer": "ipython3",
   "version": "3.10.8"
  }
 },
 "nbformat": 4,
 "nbformat_minor": 2
}
